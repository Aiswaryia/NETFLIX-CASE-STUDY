{
 "cells": [
  {
   "cell_type": "markdown",
   "id": "2e571640",
   "metadata": {},
   "source": [
    "<font color=red>\n",
    "\n",
    "<b>NETFLIX-DATA EXPLORATION AND VISUALISATION</b>\n",
    "\n",
    "\n",
    "\n",
    "\n",
    "\n",
    "\n",
    "<font color=blue>\n",
    "Netflix is widely recognized as a leading media and video streaming platform, renowned for its extensive library of over 10,000 movies and TV shows. As of mid-2021, Netflix boasts a staggering global subscriber base of over 222 million. The dataset in question comprises a tabular format that encompasses comprehensive listings of all the movies and TV shows accessible on the platform. It encompasses a wealth of details including cast members, directors, ratings, release years, durations, and more.\n",
    "</font color=blue>"
   ]
  },
  {
   "cell_type": "code",
   "execution_count": 1,
   "id": "1681c2bd",
   "metadata": {},
   "outputs": [],
   "source": [
    "import numpy as np\n",
    "import pandas as pd\n",
    "import matplotlib.pyplot as plt\n",
    "import seaborn as sns"
   ]
  },
  {
   "cell_type": "code",
   "execution_count": 2,
   "id": "5974f648",
   "metadata": {},
   "outputs": [],
   "source": [
    "#Use the read_csv function to read the dataset from the specified file path.\n",
    "#Let’s import and view the first five rows using the head() function."
   ]
  },
  {
   "cell_type": "code",
   "execution_count": 3,
   "id": "af3ae0b6",
   "metadata": {},
   "outputs": [
    {
     "data": {
      "text/html": [
       "<div>\n",
       "<style scoped>\n",
       "    .dataframe tbody tr th:only-of-type {\n",
       "        vertical-align: middle;\n",
       "    }\n",
       "\n",
       "    .dataframe tbody tr th {\n",
       "        vertical-align: top;\n",
       "    }\n",
       "\n",
       "    .dataframe thead th {\n",
       "        text-align: right;\n",
       "    }\n",
       "</style>\n",
       "<table border=\"1\" class=\"dataframe\">\n",
       "  <thead>\n",
       "    <tr style=\"text-align: right;\">\n",
       "      <th></th>\n",
       "      <th>show_id</th>\n",
       "      <th>type</th>\n",
       "      <th>title</th>\n",
       "      <th>director</th>\n",
       "      <th>cast</th>\n",
       "      <th>country</th>\n",
       "      <th>date_added</th>\n",
       "      <th>release_year</th>\n",
       "      <th>rating</th>\n",
       "      <th>duration</th>\n",
       "      <th>listed_in</th>\n",
       "      <th>description</th>\n",
       "    </tr>\n",
       "  </thead>\n",
       "  <tbody>\n",
       "    <tr>\n",
       "      <th>0</th>\n",
       "      <td>s1</td>\n",
       "      <td>Movie</td>\n",
       "      <td>Dick Johnson Is Dead</td>\n",
       "      <td>Kirsten Johnson</td>\n",
       "      <td>NaN</td>\n",
       "      <td>United States</td>\n",
       "      <td>September 25, 2021</td>\n",
       "      <td>2020</td>\n",
       "      <td>PG-13</td>\n",
       "      <td>90 min</td>\n",
       "      <td>Documentaries</td>\n",
       "      <td>As her father nears the end of his life, filmm...</td>\n",
       "    </tr>\n",
       "    <tr>\n",
       "      <th>1</th>\n",
       "      <td>s2</td>\n",
       "      <td>TV Show</td>\n",
       "      <td>Blood &amp; Water</td>\n",
       "      <td>NaN</td>\n",
       "      <td>Ama Qamata, Khosi Ngema, Gail Mabalane, Thaban...</td>\n",
       "      <td>South Africa</td>\n",
       "      <td>September 24, 2021</td>\n",
       "      <td>2021</td>\n",
       "      <td>TV-MA</td>\n",
       "      <td>2 Seasons</td>\n",
       "      <td>International TV Shows, TV Dramas, TV Mysteries</td>\n",
       "      <td>After crossing paths at a party, a Cape Town t...</td>\n",
       "    </tr>\n",
       "    <tr>\n",
       "      <th>2</th>\n",
       "      <td>s3</td>\n",
       "      <td>TV Show</td>\n",
       "      <td>Ganglands</td>\n",
       "      <td>Julien Leclercq</td>\n",
       "      <td>Sami Bouajila, Tracy Gotoas, Samuel Jouy, Nabi...</td>\n",
       "      <td>NaN</td>\n",
       "      <td>September 24, 2021</td>\n",
       "      <td>2021</td>\n",
       "      <td>TV-MA</td>\n",
       "      <td>1 Season</td>\n",
       "      <td>Crime TV Shows, International TV Shows, TV Act...</td>\n",
       "      <td>To protect his family from a powerful drug lor...</td>\n",
       "    </tr>\n",
       "    <tr>\n",
       "      <th>3</th>\n",
       "      <td>s4</td>\n",
       "      <td>TV Show</td>\n",
       "      <td>Jailbirds New Orleans</td>\n",
       "      <td>NaN</td>\n",
       "      <td>NaN</td>\n",
       "      <td>NaN</td>\n",
       "      <td>September 24, 2021</td>\n",
       "      <td>2021</td>\n",
       "      <td>TV-MA</td>\n",
       "      <td>1 Season</td>\n",
       "      <td>Docuseries, Reality TV</td>\n",
       "      <td>Feuds, flirtations and toilet talk go down amo...</td>\n",
       "    </tr>\n",
       "    <tr>\n",
       "      <th>4</th>\n",
       "      <td>s5</td>\n",
       "      <td>TV Show</td>\n",
       "      <td>Kota Factory</td>\n",
       "      <td>NaN</td>\n",
       "      <td>Mayur More, Jitendra Kumar, Ranjan Raj, Alam K...</td>\n",
       "      <td>India</td>\n",
       "      <td>September 24, 2021</td>\n",
       "      <td>2021</td>\n",
       "      <td>TV-MA</td>\n",
       "      <td>2 Seasons</td>\n",
       "      <td>International TV Shows, Romantic TV Shows, TV ...</td>\n",
       "      <td>In a city of coaching centers known to train I...</td>\n",
       "    </tr>\n",
       "  </tbody>\n",
       "</table>\n",
       "</div>"
      ],
      "text/plain": [
       "  show_id     type                  title         director  \\\n",
       "0      s1    Movie   Dick Johnson Is Dead  Kirsten Johnson   \n",
       "1      s2  TV Show          Blood & Water              NaN   \n",
       "2      s3  TV Show              Ganglands  Julien Leclercq   \n",
       "3      s4  TV Show  Jailbirds New Orleans              NaN   \n",
       "4      s5  TV Show           Kota Factory              NaN   \n",
       "\n",
       "                                                cast        country  \\\n",
       "0                                                NaN  United States   \n",
       "1  Ama Qamata, Khosi Ngema, Gail Mabalane, Thaban...   South Africa   \n",
       "2  Sami Bouajila, Tracy Gotoas, Samuel Jouy, Nabi...            NaN   \n",
       "3                                                NaN            NaN   \n",
       "4  Mayur More, Jitendra Kumar, Ranjan Raj, Alam K...          India   \n",
       "\n",
       "           date_added  release_year rating   duration  \\\n",
       "0  September 25, 2021          2020  PG-13     90 min   \n",
       "1  September 24, 2021          2021  TV-MA  2 Seasons   \n",
       "2  September 24, 2021          2021  TV-MA   1 Season   \n",
       "3  September 24, 2021          2021  TV-MA   1 Season   \n",
       "4  September 24, 2021          2021  TV-MA  2 Seasons   \n",
       "\n",
       "                                           listed_in  \\\n",
       "0                                      Documentaries   \n",
       "1    International TV Shows, TV Dramas, TV Mysteries   \n",
       "2  Crime TV Shows, International TV Shows, TV Act...   \n",
       "3                             Docuseries, Reality TV   \n",
       "4  International TV Shows, Romantic TV Shows, TV ...   \n",
       "\n",
       "                                         description  \n",
       "0  As her father nears the end of his life, filmm...  \n",
       "1  After crossing paths at a party, a Cape Town t...  \n",
       "2  To protect his family from a powerful drug lor...  \n",
       "3  Feuds, flirtations and toilet talk go down amo...  \n",
       "4  In a city of coaching centers known to train I...  "
      ]
     },
     "execution_count": 3,
     "metadata": {},
     "output_type": "execute_result"
    }
   ],
   "source": [
    "#Reading dataset\n",
    "df=pd.read_csv(\"Netflix case study dataset.csv\")\n",
    "df.head()"
   ]
  },
  {
   "cell_type": "markdown",
   "id": "03d222eb",
   "metadata": {},
   "source": [
    "# Observations on the shape of data, data types of all the attributes and exploring the data"
   ]
  },
  {
   "cell_type": "code",
   "execution_count": 4,
   "id": "48af5622",
   "metadata": {},
   "outputs": [
    {
     "data": {
      "text/plain": [
       "(8807, 12)"
      ]
     },
     "execution_count": 4,
     "metadata": {},
     "output_type": "execute_result"
    }
   ],
   "source": [
    "#Checking the number of rows and columns\n",
    "df.shape"
   ]
  },
  {
   "cell_type": "code",
   "execution_count": 5,
   "id": "2a1c3b1a",
   "metadata": {},
   "outputs": [
    {
     "data": {
      "text/plain": [
       "Index(['show_id', 'type', 'title', 'director', 'cast', 'country', 'date_added',\n",
       "       'release_year', 'rating', 'duration', 'listed_in', 'description'],\n",
       "      dtype='object')"
      ]
     },
     "execution_count": 5,
     "metadata": {},
     "output_type": "execute_result"
    }
   ],
   "source": [
    "#To list the names of columns present\n",
    "df.columns"
   ]
  },
  {
   "cell_type": "code",
   "execution_count": 6,
   "id": "a4f692a4",
   "metadata": {},
   "outputs": [
    {
     "name": "stdout",
     "output_type": "stream",
     "text": [
      "<class 'pandas.core.frame.DataFrame'>\n",
      "RangeIndex: 8807 entries, 0 to 8806\n",
      "Data columns (total 12 columns):\n",
      " #   Column        Non-Null Count  Dtype \n",
      "---  ------        --------------  ----- \n",
      " 0   show_id       8807 non-null   object\n",
      " 1   type          8807 non-null   object\n",
      " 2   title         8807 non-null   object\n",
      " 3   director      6173 non-null   object\n",
      " 4   cast          7982 non-null   object\n",
      " 5   country       7976 non-null   object\n",
      " 6   date_added    8797 non-null   object\n",
      " 7   release_year  8807 non-null   int64 \n",
      " 8   rating        8803 non-null   object\n",
      " 9   duration      8804 non-null   object\n",
      " 10  listed_in     8807 non-null   object\n",
      " 11  description   8807 non-null   object\n",
      "dtypes: int64(1), object(11)\n",
      "memory usage: 825.8+ KB\n"
     ]
    }
   ],
   "source": [
    "#To check the datatype of the columns\n",
    "df.info()"
   ]
  },
  {
   "cell_type": "markdown",
   "id": "7083cbcd",
   "metadata": {},
   "source": [
    "# BASIC ANALYSIS OF DATASET"
   ]
  },
  {
   "cell_type": "code",
   "execution_count": 12,
   "id": "96c22a82",
   "metadata": {},
   "outputs": [
    {
     "data": {
      "text/plain": [
       "show_id            0\n",
       "type               0\n",
       "title              0\n",
       "director        2634\n",
       "cast             825\n",
       "country          831\n",
       "date_added        10\n",
       "release_year       0\n",
       "rating             4\n",
       "duration           0\n",
       "listed_in          0\n",
       "description        0\n",
       "dtype: int64"
      ]
     },
     "execution_count": 12,
     "metadata": {},
     "output_type": "execute_result"
    }
   ],
   "source": [
    "#Checking the null value \n",
    "df1.isnull().sum()"
   ]
  },
  {
   "cell_type": "code",
   "execution_count": 13,
   "id": "ae530621",
   "metadata": {},
   "outputs": [],
   "source": [
    "df1=df1[df1.isnull().any(axis=1)]"
   ]
  },
  {
   "cell_type": "code",
   "execution_count": 14,
   "id": "89301317",
   "metadata": {},
   "outputs": [
    {
     "data": {
      "text/plain": [
       "<Axes: >"
      ]
     },
     "execution_count": 14,
     "metadata": {},
     "output_type": "execute_result"
    },
    {
     "data": {
      "image/png": "[encoded data removed]",
      "text/plain": [
       "<Figure size 1200x600 with 2 Axes>"
      ]
     },
     "metadata": {},
     "output_type": "display_data"
    }
   ],
   "source": [
    "#Heatmap showing null values\n",
    "\n",
    "plt.figure(figsize=[12,6])\n",
    "sns.heatmap(df1.isnull())"
   ]
  },
  {
   "cell_type": "markdown",
   "id": "b8bda529",
   "metadata": {},
   "source": [
    "<font color =red >\n",
    "<b> OBSERVATION : NULL VALUES ARE PRESENT IN director,cast,country,date_added,rating,duration COLUMNS\n",
    "</font>"
   ]
  },
  {
   "cell_type": "markdown",
   "id": "c1d21189",
   "metadata": {},
   "source": [
    "## 1. Drop NaN Values & handling null values"
   ]
  },
  {
   "cell_type": "code",
   "execution_count": 21,
   "id": "9284ba9d",
   "metadata": {},
   "outputs": [
    {
     "name": "stdout",
     "output_type": "stream",
     "text": [
      "<class 'pandas.core.frame.DataFrame'>\n",
      "Int64Index: 8804 entries, 0 to 8806\n",
      "Data columns (total 12 columns):\n",
      " #   Column        Non-Null Count  Dtype \n",
      "---  ------        --------------  ----- \n",
      " 0   show_id       8804 non-null   object\n",
      " 1   type          8804 non-null   object\n",
      " 2   title         8804 non-null   object\n",
      " 3   director      6170 non-null   object\n",
      " 4   cast          7979 non-null   object\n",
      " 5   country       7973 non-null   object\n",
      " 6   date_added    8794 non-null   object\n",
      " 7   release_year  8804 non-null   int64 \n",
      " 8   rating        8800 non-null   object\n",
      " 9   duration      8804 non-null   object\n",
      " 10  listed_in     8804 non-null   object\n",
      " 11  description   8804 non-null   object\n",
      "dtypes: int64(1), object(11)\n",
      "memory usage: 894.2+ KB\n"
     ]
    }
   ],
   "source": [
    "df1=df\n",
    "df1=df.dropna(subset=[\"rating\"])\n",
    "df1=df.dropna(subset=[\"duration\"])\n",
    "df1.info()"
   ]
  },
  {
   "cell_type": "code",
   "execution_count": 22,
   "id": "0d5af121",
   "metadata": {},
   "outputs": [
    {
     "data": {
      "text/plain": [
       "Int64Index([   3,   10,   14,   74,  123,  147,  181,  218,  224,  234,  242,\n",
       "             320,  368,  369,  379,  404,  430,  465,  466,  490,  497,  549,\n",
       "             641,  653,  710,  738,  761,  842,  851,  852,  854,  925,  936,\n",
       "             957, 1005, 1038, 1056, 1094, 1095, 1116, 1224, 1225, 1723, 1828,\n",
       "            1889, 1890, 1952, 2101, 2152, 2222, 2236, 2335, 2394, 2425, 2432,\n",
       "            2495, 2568, 2569, 2699, 2893, 2982, 3393, 3394, 3395, 3396, 3397,\n",
       "            3469, 3539, 3592, 3789, 3837, 3953, 3987, 4015, 4056, 4199, 4250,\n",
       "            4372, 4627, 4637, 4654, 5291, 5799, 5870, 6389, 6618, 7017, 7222,\n",
       "            7438, 7483, 7624, 7812, 8109, 8199, 8609, 8803],\n",
       "           dtype='int64')"
      ]
     },
     "execution_count": 22,
     "metadata": {},
     "output_type": "execute_result"
    }
   ],
   "source": [
    "df_null=df1[[\"country\",\"cast\",\"director\"]].isna()\n",
    "df_null=df_null[(df_null[\"country\"]==True) & (df_null[\"cast\"]==True) & (df_null[\"director\"]==True)]\n",
    "index_to_drop=df_null.index\n",
    "index_to_drop"
   ]
  },
  {
   "cell_type": "code",
   "execution_count": 23,
   "id": "dadd9dc2",
   "metadata": {},
   "outputs": [
    {
     "data": {
      "text/html": [
       "<div>\n",
       "<style scoped>\n",
       "    .dataframe tbody tr th:only-of-type {\n",
       "        vertical-align: middle;\n",
       "    }\n",
       "\n",
       "    .dataframe tbody tr th {\n",
       "        vertical-align: top;\n",
       "    }\n",
       "\n",
       "    .dataframe thead th {\n",
       "        text-align: right;\n",
       "    }\n",
       "</style>\n",
       "<table border=\"1\" class=\"dataframe\">\n",
       "  <thead>\n",
       "    <tr style=\"text-align: right;\">\n",
       "      <th></th>\n",
       "      <th>show_id</th>\n",
       "      <th>type</th>\n",
       "      <th>title</th>\n",
       "      <th>director</th>\n",
       "      <th>cast</th>\n",
       "      <th>country</th>\n",
       "      <th>date_added</th>\n",
       "      <th>release_year</th>\n",
       "      <th>rating</th>\n",
       "      <th>duration</th>\n",
       "      <th>listed_in</th>\n",
       "      <th>description</th>\n",
       "    </tr>\n",
       "  </thead>\n",
       "  <tbody>\n",
       "    <tr>\n",
       "      <th>0</th>\n",
       "      <td>s1</td>\n",
       "      <td>Movie</td>\n",
       "      <td>Dick Johnson Is Dead</td>\n",
       "      <td>Kirsten Johnson</td>\n",
       "      <td>NaN</td>\n",
       "      <td>United States</td>\n",
       "      <td>September 25, 2021</td>\n",
       "      <td>2020</td>\n",
       "      <td>PG-13</td>\n",
       "      <td>90 min</td>\n",
       "      <td>Documentaries</td>\n",
       "      <td>As her father nears the end of his life, filmm...</td>\n",
       "    </tr>\n",
       "    <tr>\n",
       "      <th>1</th>\n",
       "      <td>s2</td>\n",
       "      <td>TV Show</td>\n",
       "      <td>Blood &amp; Water</td>\n",
       "      <td>NaN</td>\n",
       "      <td>Ama Qamata, Khosi Ngema, Gail Mabalane, Thaban...</td>\n",
       "      <td>South Africa</td>\n",
       "      <td>September 24, 2021</td>\n",
       "      <td>2021</td>\n",
       "      <td>TV-MA</td>\n",
       "      <td>2 Seasons</td>\n",
       "      <td>International TV Shows, TV Dramas, TV Mysteries</td>\n",
       "      <td>After crossing paths at a party, a Cape Town t...</td>\n",
       "    </tr>\n",
       "    <tr>\n",
       "      <th>2</th>\n",
       "      <td>s3</td>\n",
       "      <td>TV Show</td>\n",
       "      <td>Ganglands</td>\n",
       "      <td>Julien Leclercq</td>\n",
       "      <td>Sami Bouajila, Tracy Gotoas, Samuel Jouy, Nabi...</td>\n",
       "      <td>NaN</td>\n",
       "      <td>September 24, 2021</td>\n",
       "      <td>2021</td>\n",
       "      <td>TV-MA</td>\n",
       "      <td>1 Season</td>\n",
       "      <td>Crime TV Shows, International TV Shows, TV Act...</td>\n",
       "      <td>To protect his family from a powerful drug lor...</td>\n",
       "    </tr>\n",
       "    <tr>\n",
       "      <th>4</th>\n",
       "      <td>s5</td>\n",
       "      <td>TV Show</td>\n",
       "      <td>Kota Factory</td>\n",
       "      <td>NaN</td>\n",
       "      <td>Mayur More, Jitendra Kumar, Ranjan Raj, Alam K...</td>\n",
       "      <td>India</td>\n",
       "      <td>September 24, 2021</td>\n",
       "      <td>2021</td>\n",
       "      <td>TV-MA</td>\n",
       "      <td>2 Seasons</td>\n",
       "      <td>International TV Shows, Romantic TV Shows, TV ...</td>\n",
       "      <td>In a city of coaching centers known to train I...</td>\n",
       "    </tr>\n",
       "    <tr>\n",
       "      <th>5</th>\n",
       "      <td>s6</td>\n",
       "      <td>TV Show</td>\n",
       "      <td>Midnight Mass</td>\n",
       "      <td>Mike Flanagan</td>\n",
       "      <td>Kate Siegel, Zach Gilford, Hamish Linklater, H...</td>\n",
       "      <td>NaN</td>\n",
       "      <td>September 24, 2021</td>\n",
       "      <td>2021</td>\n",
       "      <td>TV-MA</td>\n",
       "      <td>1 Season</td>\n",
       "      <td>TV Dramas, TV Horror, TV Mysteries</td>\n",
       "      <td>The arrival of a charismatic young priest brin...</td>\n",
       "    </tr>\n",
       "    <tr>\n",
       "      <th>...</th>\n",
       "      <td>...</td>\n",
       "      <td>...</td>\n",
       "      <td>...</td>\n",
       "      <td>...</td>\n",
       "      <td>...</td>\n",
       "      <td>...</td>\n",
       "      <td>...</td>\n",
       "      <td>...</td>\n",
       "      <td>...</td>\n",
       "      <td>...</td>\n",
       "      <td>...</td>\n",
       "      <td>...</td>\n",
       "    </tr>\n",
       "    <tr>\n",
       "      <th>8801</th>\n",
       "      <td>s8802</td>\n",
       "      <td>Movie</td>\n",
       "      <td>Zinzana</td>\n",
       "      <td>Majid Al Ansari</td>\n",
       "      <td>Ali Suliman, Saleh Bakri, Yasa, Ali Al-Jabri, ...</td>\n",
       "      <td>United Arab Emirates, Jordan</td>\n",
       "      <td>March 9, 2016</td>\n",
       "      <td>2015</td>\n",
       "      <td>TV-MA</td>\n",
       "      <td>96 min</td>\n",
       "      <td>Dramas, International Movies, Thrillers</td>\n",
       "      <td>Recovering alcoholic Talal wakes up inside a s...</td>\n",
       "    </tr>\n",
       "    <tr>\n",
       "      <th>8802</th>\n",
       "      <td>s8803</td>\n",
       "      <td>Movie</td>\n",
       "      <td>Zodiac</td>\n",
       "      <td>David Fincher</td>\n",
       "      <td>Mark Ruffalo, Jake Gyllenhaal, Robert Downey J...</td>\n",
       "      <td>United States</td>\n",
       "      <td>November 20, 2019</td>\n",
       "      <td>2007</td>\n",
       "      <td>R</td>\n",
       "      <td>158 min</td>\n",
       "      <td>Cult Movies, Dramas, Thrillers</td>\n",
       "      <td>A political cartoonist, a crime reporter and a...</td>\n",
       "    </tr>\n",
       "    <tr>\n",
       "      <th>8804</th>\n",
       "      <td>s8805</td>\n",
       "      <td>Movie</td>\n",
       "      <td>Zombieland</td>\n",
       "      <td>Ruben Fleischer</td>\n",
       "      <td>Jesse Eisenberg, Woody Harrelson, Emma Stone, ...</td>\n",
       "      <td>United States</td>\n",
       "      <td>November 1, 2019</td>\n",
       "      <td>2009</td>\n",
       "      <td>R</td>\n",
       "      <td>88 min</td>\n",
       "      <td>Comedies, Horror Movies</td>\n",
       "      <td>Looking to survive in a world taken over by zo...</td>\n",
       "    </tr>\n",
       "    <tr>\n",
       "      <th>8805</th>\n",
       "      <td>s8806</td>\n",
       "      <td>Movie</td>\n",
       "      <td>Zoom</td>\n",
       "      <td>Peter Hewitt</td>\n",
       "      <td>Tim Allen, Courteney Cox, Chevy Chase, Kate Ma...</td>\n",
       "      <td>United States</td>\n",
       "      <td>January 11, 2020</td>\n",
       "      <td>2006</td>\n",
       "      <td>PG</td>\n",
       "      <td>88 min</td>\n",
       "      <td>Children &amp; Family Movies, Comedies</td>\n",
       "      <td>Dragged from civilian life, a former superhero...</td>\n",
       "    </tr>\n",
       "    <tr>\n",
       "      <th>8806</th>\n",
       "      <td>s8807</td>\n",
       "      <td>Movie</td>\n",
       "      <td>Zubaan</td>\n",
       "      <td>Mozez Singh</td>\n",
       "      <td>Vicky Kaushal, Sarah-Jane Dias, Raaghav Chanan...</td>\n",
       "      <td>India</td>\n",
       "      <td>March 2, 2019</td>\n",
       "      <td>2015</td>\n",
       "      <td>TV-14</td>\n",
       "      <td>111 min</td>\n",
       "      <td>Dramas, International Movies, Music &amp; Musicals</td>\n",
       "      <td>A scrappy but poor boy worms his way into a ty...</td>\n",
       "    </tr>\n",
       "  </tbody>\n",
       "</table>\n",
       "<p>8708 rows × 12 columns</p>\n",
       "</div>"
      ],
      "text/plain": [
       "     show_id     type                 title         director  \\\n",
       "0         s1    Movie  Dick Johnson Is Dead  Kirsten Johnson   \n",
       "1         s2  TV Show         Blood & Water              NaN   \n",
       "2         s3  TV Show             Ganglands  Julien Leclercq   \n",
       "4         s5  TV Show          Kota Factory              NaN   \n",
       "5         s6  TV Show         Midnight Mass    Mike Flanagan   \n",
       "...      ...      ...                   ...              ...   \n",
       "8801   s8802    Movie               Zinzana  Majid Al Ansari   \n",
       "8802   s8803    Movie                Zodiac    David Fincher   \n",
       "8804   s8805    Movie            Zombieland  Ruben Fleischer   \n",
       "8805   s8806    Movie                  Zoom     Peter Hewitt   \n",
       "8806   s8807    Movie                Zubaan      Mozez Singh   \n",
       "\n",
       "                                                   cast  \\\n",
       "0                                                   NaN   \n",
       "1     Ama Qamata, Khosi Ngema, Gail Mabalane, Thaban...   \n",
       "2     Sami Bouajila, Tracy Gotoas, Samuel Jouy, Nabi...   \n",
       "4     Mayur More, Jitendra Kumar, Ranjan Raj, Alam K...   \n",
       "5     Kate Siegel, Zach Gilford, Hamish Linklater, H...   \n",
       "...                                                 ...   \n",
       "8801  Ali Suliman, Saleh Bakri, Yasa, Ali Al-Jabri, ...   \n",
       "8802  Mark Ruffalo, Jake Gyllenhaal, Robert Downey J...   \n",
       "8804  Jesse Eisenberg, Woody Harrelson, Emma Stone, ...   \n",
       "8805  Tim Allen, Courteney Cox, Chevy Chase, Kate Ma...   \n",
       "8806  Vicky Kaushal, Sarah-Jane Dias, Raaghav Chanan...   \n",
       "\n",
       "                           country          date_added  release_year rating  \\\n",
       "0                    United States  September 25, 2021          2020  PG-13   \n",
       "1                     South Africa  September 24, 2021          2021  TV-MA   \n",
       "2                              NaN  September 24, 2021          2021  TV-MA   \n",
       "4                            India  September 24, 2021          2021  TV-MA   \n",
       "5                              NaN  September 24, 2021          2021  TV-MA   \n",
       "...                            ...                 ...           ...    ...   \n",
       "8801  United Arab Emirates, Jordan       March 9, 2016          2015  TV-MA   \n",
       "8802                 United States   November 20, 2019          2007      R   \n",
       "8804                 United States    November 1, 2019          2009      R   \n",
       "8805                 United States    January 11, 2020          2006     PG   \n",
       "8806                         India       March 2, 2019          2015  TV-14   \n",
       "\n",
       "       duration                                          listed_in  \\\n",
       "0        90 min                                      Documentaries   \n",
       "1     2 Seasons    International TV Shows, TV Dramas, TV Mysteries   \n",
       "2      1 Season  Crime TV Shows, International TV Shows, TV Act...   \n",
       "4     2 Seasons  International TV Shows, Romantic TV Shows, TV ...   \n",
       "5      1 Season                 TV Dramas, TV Horror, TV Mysteries   \n",
       "...         ...                                                ...   \n",
       "8801     96 min            Dramas, International Movies, Thrillers   \n",
       "8802    158 min                     Cult Movies, Dramas, Thrillers   \n",
       "8804     88 min                            Comedies, Horror Movies   \n",
       "8805     88 min                 Children & Family Movies, Comedies   \n",
       "8806    111 min     Dramas, International Movies, Music & Musicals   \n",
       "\n",
       "                                            description  \n",
       "0     As her father nears the end of his life, filmm...  \n",
       "1     After crossing paths at a party, a Cape Town t...  \n",
       "2     To protect his family from a powerful drug lor...  \n",
       "4     In a city of coaching centers known to train I...  \n",
       "5     The arrival of a charismatic young priest brin...  \n",
       "...                                                 ...  \n",
       "8801  Recovering alcoholic Talal wakes up inside a s...  \n",
       "8802  A political cartoonist, a crime reporter and a...  \n",
       "8804  Looking to survive in a world taken over by zo...  \n",
       "8805  Dragged from civilian life, a former superhero...  \n",
       "8806  A scrappy but poor boy worms his way into a ty...  \n",
       "\n",
       "[8708 rows x 12 columns]"
      ]
     },
     "execution_count": 23,
     "metadata": {},
     "output_type": "execute_result"
    }
   ],
   "source": [
    "df1=df1.drop(index=index_to_drop)\n",
    "df1"
   ]
  },
  {
   "cell_type": "markdown",
   "id": "1c51e02a",
   "metadata": {},
   "source": [
    "# IMPUTATION OF DATE_ADDED"
   ]
  },
  {
   "cell_type": "code",
   "execution_count": 24,
   "id": "1e5def13",
   "metadata": {},
   "outputs": [
    {
     "data": {
      "text/plain": [
       "0"
      ]
     },
     "execution_count": 24,
     "metadata": {},
     "output_type": "execute_result"
    }
   ],
   "source": [
    "df1[\"date_added\"]=df1[\"date_added\"].fillna(df1[\"release_year\"])\n",
    "df1[\"date_added\"].isna().sum()"
   ]
  },
  {
   "cell_type": "markdown",
   "id": "424c86fc",
   "metadata": {},
   "source": [
    "# IMPUTATION OF DIRECTORS"
   ]
  },
  {
   "cell_type": "code",
   "execution_count": 25,
   "id": "7156106c",
   "metadata": {},
   "outputs": [
    {
     "data": {
      "text/html": [
       "<div>\n",
       "<style scoped>\n",
       "    .dataframe tbody tr th:only-of-type {\n",
       "        vertical-align: middle;\n",
       "    }\n",
       "\n",
       "    .dataframe tbody tr th {\n",
       "        vertical-align: top;\n",
       "    }\n",
       "\n",
       "    .dataframe thead th {\n",
       "        text-align: right;\n",
       "    }\n",
       "</style>\n",
       "<table border=\"1\" class=\"dataframe\">\n",
       "  <thead>\n",
       "    <tr style=\"text-align: right;\">\n",
       "      <th></th>\n",
       "      <th>type</th>\n",
       "      <th>listed_in</th>\n",
       "      <th>country</th>\n",
       "      <th>level_3</th>\n",
       "      <th>director</th>\n",
       "    </tr>\n",
       "  </thead>\n",
       "  <tbody>\n",
       "    <tr>\n",
       "      <th>0</th>\n",
       "      <td>Movie</td>\n",
       "      <td>Action &amp; Adventure</td>\n",
       "      <td>Australia, United States</td>\n",
       "      <td>0</td>\n",
       "      <td>Simon Wincer</td>\n",
       "    </tr>\n",
       "    <tr>\n",
       "      <th>1</th>\n",
       "      <td>Movie</td>\n",
       "      <td>Action &amp; Adventure</td>\n",
       "      <td>Bulgaria, United States</td>\n",
       "      <td>0</td>\n",
       "      <td>Todor Chapkanov</td>\n",
       "    </tr>\n",
       "    <tr>\n",
       "      <th>2</th>\n",
       "      <td>Movie</td>\n",
       "      <td>Action &amp; Adventure</td>\n",
       "      <td>Canada</td>\n",
       "      <td>0</td>\n",
       "      <td>Adam Alleca</td>\n",
       "    </tr>\n",
       "    <tr>\n",
       "      <th>3</th>\n",
       "      <td>Movie</td>\n",
       "      <td>Action &amp; Adventure</td>\n",
       "      <td>Canada</td>\n",
       "      <td>1</td>\n",
       "      <td>Allan Ungar</td>\n",
       "    </tr>\n",
       "    <tr>\n",
       "      <th>4</th>\n",
       "      <td>Movie</td>\n",
       "      <td>Action &amp; Adventure</td>\n",
       "      <td>Canada</td>\n",
       "      <td>2</td>\n",
       "      <td>Brett Donowho</td>\n",
       "    </tr>\n",
       "    <tr>\n",
       "      <th>...</th>\n",
       "      <td>...</td>\n",
       "      <td>...</td>\n",
       "      <td>...</td>\n",
       "      <td>...</td>\n",
       "      <td>...</td>\n",
       "    </tr>\n",
       "    <tr>\n",
       "      <th>3196</th>\n",
       "      <td>TV Show</td>\n",
       "      <td>TV Shows</td>\n",
       "      <td>Japan</td>\n",
       "      <td>0</td>\n",
       "      <td>Kobun Shizuno, Hiroyuki Seshita</td>\n",
       "    </tr>\n",
       "    <tr>\n",
       "      <th>3197</th>\n",
       "      <td>TV Show</td>\n",
       "      <td>TV Shows</td>\n",
       "      <td>Saudi Arabia</td>\n",
       "      <td>0</td>\n",
       "      <td>Ali Kalthami, Meshal Aljaser, Faris Godus, Moh...</td>\n",
       "    </tr>\n",
       "    <tr>\n",
       "      <th>3198</th>\n",
       "      <td>TV Show</td>\n",
       "      <td>TV Shows</td>\n",
       "      <td>United States</td>\n",
       "      <td>0</td>\n",
       "      <td>Joe Berlinger, Bruce Sinofsky</td>\n",
       "    </tr>\n",
       "    <tr>\n",
       "      <th>3199</th>\n",
       "      <td>TV Show</td>\n",
       "      <td>TV Shows</td>\n",
       "      <td>United States</td>\n",
       "      <td>1</td>\n",
       "      <td>Oscar Micheaux, Spencer Williams, Richard E. N...</td>\n",
       "    </tr>\n",
       "    <tr>\n",
       "      <th>3200</th>\n",
       "      <td>TV Show</td>\n",
       "      <td>TV Shows</td>\n",
       "      <td>United States</td>\n",
       "      <td>2</td>\n",
       "      <td>Steven Bognar, Julia Reichert</td>\n",
       "    </tr>\n",
       "  </tbody>\n",
       "</table>\n",
       "<p>3201 rows × 5 columns</p>\n",
       "</div>"
      ],
      "text/plain": [
       "         type           listed_in                   country  level_3  \\\n",
       "0       Movie  Action & Adventure  Australia, United States        0   \n",
       "1       Movie  Action & Adventure   Bulgaria, United States        0   \n",
       "2       Movie  Action & Adventure                    Canada        0   \n",
       "3       Movie  Action & Adventure                    Canada        1   \n",
       "4       Movie  Action & Adventure                    Canada        2   \n",
       "...       ...                 ...                       ...      ...   \n",
       "3196  TV Show            TV Shows                     Japan        0   \n",
       "3197  TV Show            TV Shows              Saudi Arabia        0   \n",
       "3198  TV Show            TV Shows             United States        0   \n",
       "3199  TV Show            TV Shows             United States        1   \n",
       "3200  TV Show            TV Shows             United States        2   \n",
       "\n",
       "                                               director  \n",
       "0                                          Simon Wincer  \n",
       "1                                       Todor Chapkanov  \n",
       "2                                           Adam Alleca  \n",
       "3                                           Allan Ungar  \n",
       "4                                         Brett Donowho  \n",
       "...                                                 ...  \n",
       "3196                    Kobun Shizuno, Hiroyuki Seshita  \n",
       "3197  Ali Kalthami, Meshal Aljaser, Faris Godus, Moh...  \n",
       "3198                      Joe Berlinger, Bruce Sinofsky  \n",
       "3199  Oscar Micheaux, Spencer Williams, Richard E. N...  \n",
       "3200                      Steven Bognar, Julia Reichert  \n",
       "\n",
       "[3201 rows x 5 columns]"
      ]
     },
     "execution_count": 25,
     "metadata": {},
     "output_type": "execute_result"
    }
   ],
   "source": [
    "director_fill=df1.groupby([\"type\",\"listed_in\",\"country\"])[\"director\"].apply(lambda x:x.mode()) #filling the data with value that appears most\n",
    "director_fill=director_fill.reset_index()\n",
    "director_fill"
   ]
  },
  {
   "cell_type": "code",
   "execution_count": 26,
   "id": "ad6b3120",
   "metadata": {},
   "outputs": [
    {
     "data": {
      "text/html": [
       "<div>\n",
       "<style scoped>\n",
       "    .dataframe tbody tr th:only-of-type {\n",
       "        vertical-align: middle;\n",
       "    }\n",
       "\n",
       "    .dataframe tbody tr th {\n",
       "        vertical-align: top;\n",
       "    }\n",
       "\n",
       "    .dataframe thead th {\n",
       "        text-align: right;\n",
       "    }\n",
       "</style>\n",
       "<table border=\"1\" class=\"dataframe\">\n",
       "  <thead>\n",
       "    <tr style=\"text-align: right;\">\n",
       "      <th></th>\n",
       "      <th>show_id</th>\n",
       "      <th>type</th>\n",
       "      <th>title</th>\n",
       "      <th>director</th>\n",
       "      <th>cast</th>\n",
       "      <th>country</th>\n",
       "      <th>date_added</th>\n",
       "      <th>release_year</th>\n",
       "      <th>rating</th>\n",
       "      <th>duration</th>\n",
       "      <th>listed_in</th>\n",
       "      <th>description</th>\n",
       "    </tr>\n",
       "  </thead>\n",
       "  <tbody>\n",
       "    <tr>\n",
       "      <th>0</th>\n",
       "      <td>s1</td>\n",
       "      <td>Movie</td>\n",
       "      <td>Dick Johnson Is Dead</td>\n",
       "      <td>Kirsten Johnson</td>\n",
       "      <td>NaN</td>\n",
       "      <td>United States</td>\n",
       "      <td>September 25, 2021</td>\n",
       "      <td>2020</td>\n",
       "      <td>PG-13</td>\n",
       "      <td>90 min</td>\n",
       "      <td>Documentaries</td>\n",
       "      <td>As her father nears the end of his life, filmm...</td>\n",
       "    </tr>\n",
       "    <tr>\n",
       "      <th>1</th>\n",
       "      <td>s2</td>\n",
       "      <td>TV Show</td>\n",
       "      <td>Blood &amp; Water</td>\n",
       "      <td>NaN</td>\n",
       "      <td>Ama Qamata, Khosi Ngema, Gail Mabalane, Thaban...</td>\n",
       "      <td>South Africa</td>\n",
       "      <td>September 24, 2021</td>\n",
       "      <td>2021</td>\n",
       "      <td>TV-MA</td>\n",
       "      <td>2 Seasons</td>\n",
       "      <td>International TV Shows, TV Dramas, TV Mysteries</td>\n",
       "      <td>After crossing paths at a party, a Cape Town t...</td>\n",
       "    </tr>\n",
       "    <tr>\n",
       "      <th>2</th>\n",
       "      <td>s3</td>\n",
       "      <td>TV Show</td>\n",
       "      <td>Ganglands</td>\n",
       "      <td>Julien Leclercq</td>\n",
       "      <td>Sami Bouajila, Tracy Gotoas, Samuel Jouy, Nabi...</td>\n",
       "      <td>NaN</td>\n",
       "      <td>September 24, 2021</td>\n",
       "      <td>2021</td>\n",
       "      <td>TV-MA</td>\n",
       "      <td>1 Season</td>\n",
       "      <td>Crime TV Shows, International TV Shows, TV Act...</td>\n",
       "      <td>To protect his family from a powerful drug lor...</td>\n",
       "    </tr>\n",
       "    <tr>\n",
       "      <th>3</th>\n",
       "      <td>s5</td>\n",
       "      <td>TV Show</td>\n",
       "      <td>Kota Factory</td>\n",
       "      <td>NaN</td>\n",
       "      <td>Mayur More, Jitendra Kumar, Ranjan Raj, Alam K...</td>\n",
       "      <td>India</td>\n",
       "      <td>September 24, 2021</td>\n",
       "      <td>2021</td>\n",
       "      <td>TV-MA</td>\n",
       "      <td>2 Seasons</td>\n",
       "      <td>International TV Shows, Romantic TV Shows, TV ...</td>\n",
       "      <td>In a city of coaching centers known to train I...</td>\n",
       "    </tr>\n",
       "    <tr>\n",
       "      <th>4</th>\n",
       "      <td>s6</td>\n",
       "      <td>TV Show</td>\n",
       "      <td>Midnight Mass</td>\n",
       "      <td>Mike Flanagan</td>\n",
       "      <td>Kate Siegel, Zach Gilford, Hamish Linklater, H...</td>\n",
       "      <td>NaN</td>\n",
       "      <td>September 24, 2021</td>\n",
       "      <td>2021</td>\n",
       "      <td>TV-MA</td>\n",
       "      <td>1 Season</td>\n",
       "      <td>TV Dramas, TV Horror, TV Mysteries</td>\n",
       "      <td>The arrival of a charismatic young priest brin...</td>\n",
       "    </tr>\n",
       "  </tbody>\n",
       "</table>\n",
       "</div>"
      ],
      "text/plain": [
       "  show_id     type                 title         director  \\\n",
       "0      s1    Movie  Dick Johnson Is Dead  Kirsten Johnson   \n",
       "1      s2  TV Show         Blood & Water              NaN   \n",
       "2      s3  TV Show             Ganglands  Julien Leclercq   \n",
       "3      s5  TV Show          Kota Factory              NaN   \n",
       "4      s6  TV Show         Midnight Mass    Mike Flanagan   \n",
       "\n",
       "                                                cast        country  \\\n",
       "0                                                NaN  United States   \n",
       "1  Ama Qamata, Khosi Ngema, Gail Mabalane, Thaban...   South Africa   \n",
       "2  Sami Bouajila, Tracy Gotoas, Samuel Jouy, Nabi...            NaN   \n",
       "3  Mayur More, Jitendra Kumar, Ranjan Raj, Alam K...          India   \n",
       "4  Kate Siegel, Zach Gilford, Hamish Linklater, H...            NaN   \n",
       "\n",
       "           date_added  release_year rating   duration  \\\n",
       "0  September 25, 2021          2020  PG-13     90 min   \n",
       "1  September 24, 2021          2021  TV-MA  2 Seasons   \n",
       "2  September 24, 2021          2021  TV-MA   1 Season   \n",
       "3  September 24, 2021          2021  TV-MA  2 Seasons   \n",
       "4  September 24, 2021          2021  TV-MA   1 Season   \n",
       "\n",
       "                                           listed_in  \\\n",
       "0                                      Documentaries   \n",
       "1    International TV Shows, TV Dramas, TV Mysteries   \n",
       "2  Crime TV Shows, International TV Shows, TV Act...   \n",
       "3  International TV Shows, Romantic TV Shows, TV ...   \n",
       "4                 TV Dramas, TV Horror, TV Mysteries   \n",
       "\n",
       "                                         description  \n",
       "0  As her father nears the end of his life, filmm...  \n",
       "1  After crossing paths at a party, a Cape Town t...  \n",
       "2  To protect his family from a powerful drug lor...  \n",
       "3  In a city of coaching centers known to train I...  \n",
       "4  The arrival of a charismatic young priest brin...  "
      ]
     },
     "execution_count": 26,
     "metadata": {},
     "output_type": "execute_result"
    }
   ],
   "source": [
    "df1=df1.merge(director_fill,on=[\"type\",\"listed_in\",\"country\"],how=\"left\")\n",
    "df1[\"director\"]=np.where(df1[\"director_x\"].isna(),df1[\"director_y\"],df1[\"director_x\"])\n",
    "df1=df1[[\"show_id\",\"type\",\"title\",\"director\",\"cast\",\"country\",\"date_added\",\"release_year\",\"rating\",\"duration\",\"listed_in\",\"description\"]]\n",
    "df1=df1.drop_duplicates(subset=\"show_id\")\n",
    "df1.head()"
   ]
  },
  {
   "cell_type": "code",
   "execution_count": 27,
   "id": "f3ff4051",
   "metadata": {},
   "outputs": [
    {
     "data": {
      "text/html": [
       "<div>\n",
       "<style scoped>\n",
       "    .dataframe tbody tr th:only-of-type {\n",
       "        vertical-align: middle;\n",
       "    }\n",
       "\n",
       "    .dataframe tbody tr th {\n",
       "        vertical-align: top;\n",
       "    }\n",
       "\n",
       "    .dataframe thead th {\n",
       "        text-align: right;\n",
       "    }\n",
       "</style>\n",
       "<table border=\"1\" class=\"dataframe\">\n",
       "  <thead>\n",
       "    <tr style=\"text-align: right;\">\n",
       "      <th></th>\n",
       "      <th>show_id</th>\n",
       "      <th>type</th>\n",
       "      <th>title</th>\n",
       "      <th>director</th>\n",
       "      <th>cast</th>\n",
       "      <th>country</th>\n",
       "      <th>date_added</th>\n",
       "      <th>release_year</th>\n",
       "      <th>rating</th>\n",
       "      <th>duration</th>\n",
       "      <th>listed_in</th>\n",
       "      <th>description</th>\n",
       "    </tr>\n",
       "  </thead>\n",
       "  <tbody>\n",
       "    <tr>\n",
       "      <th>0</th>\n",
       "      <td>s1</td>\n",
       "      <td>Movie</td>\n",
       "      <td>Dick Johnson Is Dead</td>\n",
       "      <td>Kirsten Johnson</td>\n",
       "      <td>NaN</td>\n",
       "      <td>United States</td>\n",
       "      <td>September 25, 2021</td>\n",
       "      <td>2020</td>\n",
       "      <td>PG-13</td>\n",
       "      <td>90 min</td>\n",
       "      <td>Documentaries</td>\n",
       "      <td>As her father nears the end of his life, filmm...</td>\n",
       "    </tr>\n",
       "    <tr>\n",
       "      <th>48</th>\n",
       "      <td>s2</td>\n",
       "      <td>TV Show</td>\n",
       "      <td>Blood &amp; Water</td>\n",
       "      <td>Michel Tikhomiroff</td>\n",
       "      <td>Ama Qamata, Khosi Ngema, Gail Mabalane, Thaban...</td>\n",
       "      <td>South Africa</td>\n",
       "      <td>September 24, 2021</td>\n",
       "      <td>2021</td>\n",
       "      <td>TV-MA</td>\n",
       "      <td>2 Seasons</td>\n",
       "      <td>International TV Shows, TV Dramas, TV Mysteries</td>\n",
       "      <td>After crossing paths at a party, a Cape Town t...</td>\n",
       "    </tr>\n",
       "    <tr>\n",
       "      <th>52</th>\n",
       "      <td>s3</td>\n",
       "      <td>TV Show</td>\n",
       "      <td>Ganglands</td>\n",
       "      <td>Julien Leclercq</td>\n",
       "      <td>Sami Bouajila, Tracy Gotoas, Samuel Jouy, Nabi...</td>\n",
       "      <td>NaN</td>\n",
       "      <td>September 24, 2021</td>\n",
       "      <td>2021</td>\n",
       "      <td>TV-MA</td>\n",
       "      <td>1 Season</td>\n",
       "      <td>Crime TV Shows, International TV Shows, TV Act...</td>\n",
       "      <td>To protect his family from a powerful drug lor...</td>\n",
       "    </tr>\n",
       "    <tr>\n",
       "      <th>54</th>\n",
       "      <td>s5</td>\n",
       "      <td>TV Show</td>\n",
       "      <td>Kota Factory</td>\n",
       "      <td>BB Sasore</td>\n",
       "      <td>Mayur More, Jitendra Kumar, Ranjan Raj, Alam K...</td>\n",
       "      <td>India</td>\n",
       "      <td>September 24, 2021</td>\n",
       "      <td>2021</td>\n",
       "      <td>TV-MA</td>\n",
       "      <td>2 Seasons</td>\n",
       "      <td>International TV Shows, Romantic TV Shows, TV ...</td>\n",
       "      <td>In a city of coaching centers known to train I...</td>\n",
       "    </tr>\n",
       "    <tr>\n",
       "      <th>60</th>\n",
       "      <td>s6</td>\n",
       "      <td>TV Show</td>\n",
       "      <td>Midnight Mass</td>\n",
       "      <td>Mike Flanagan</td>\n",
       "      <td>Kate Siegel, Zach Gilford, Hamish Linklater, H...</td>\n",
       "      <td>NaN</td>\n",
       "      <td>September 24, 2021</td>\n",
       "      <td>2021</td>\n",
       "      <td>TV-MA</td>\n",
       "      <td>1 Season</td>\n",
       "      <td>TV Dramas, TV Horror, TV Mysteries</td>\n",
       "      <td>The arrival of a charismatic young priest brin...</td>\n",
       "    </tr>\n",
       "    <tr>\n",
       "      <th>...</th>\n",
       "      <td>...</td>\n",
       "      <td>...</td>\n",
       "      <td>...</td>\n",
       "      <td>...</td>\n",
       "      <td>...</td>\n",
       "      <td>...</td>\n",
       "      <td>...</td>\n",
       "      <td>...</td>\n",
       "      <td>...</td>\n",
       "      <td>...</td>\n",
       "      <td>...</td>\n",
       "      <td>...</td>\n",
       "    </tr>\n",
       "    <tr>\n",
       "      <th>357635</th>\n",
       "      <td>s8802</td>\n",
       "      <td>Movie</td>\n",
       "      <td>Zinzana</td>\n",
       "      <td>Majid Al Ansari</td>\n",
       "      <td>Ali Suliman, Saleh Bakri, Yasa, Ali Al-Jabri, ...</td>\n",
       "      <td>United Arab Emirates, Jordan</td>\n",
       "      <td>March 9, 2016</td>\n",
       "      <td>2015</td>\n",
       "      <td>TV-MA</td>\n",
       "      <td>96 min</td>\n",
       "      <td>Dramas, International Movies, Thrillers</td>\n",
       "      <td>Recovering alcoholic Talal wakes up inside a s...</td>\n",
       "    </tr>\n",
       "    <tr>\n",
       "      <th>357749</th>\n",
       "      <td>s8803</td>\n",
       "      <td>Movie</td>\n",
       "      <td>Zodiac</td>\n",
       "      <td>David Fincher</td>\n",
       "      <td>Mark Ruffalo, Jake Gyllenhaal, Robert Downey J...</td>\n",
       "      <td>United States</td>\n",
       "      <td>November 20, 2019</td>\n",
       "      <td>2007</td>\n",
       "      <td>R</td>\n",
       "      <td>158 min</td>\n",
       "      <td>Cult Movies, Dramas, Thrillers</td>\n",
       "      <td>A political cartoonist, a crime reporter and a...</td>\n",
       "    </tr>\n",
       "    <tr>\n",
       "      <th>357750</th>\n",
       "      <td>s8805</td>\n",
       "      <td>Movie</td>\n",
       "      <td>Zombieland</td>\n",
       "      <td>Ruben Fleischer</td>\n",
       "      <td>Jesse Eisenberg, Woody Harrelson, Emma Stone, ...</td>\n",
       "      <td>United States</td>\n",
       "      <td>November 1, 2019</td>\n",
       "      <td>2009</td>\n",
       "      <td>R</td>\n",
       "      <td>88 min</td>\n",
       "      <td>Comedies, Horror Movies</td>\n",
       "      <td>Looking to survive in a world taken over by zo...</td>\n",
       "    </tr>\n",
       "    <tr>\n",
       "      <th>357754</th>\n",
       "      <td>s8806</td>\n",
       "      <td>Movie</td>\n",
       "      <td>Zoom</td>\n",
       "      <td>Peter Hewitt</td>\n",
       "      <td>Tim Allen, Courteney Cox, Chevy Chase, Kate Ma...</td>\n",
       "      <td>United States</td>\n",
       "      <td>January 11, 2020</td>\n",
       "      <td>2006</td>\n",
       "      <td>PG</td>\n",
       "      <td>88 min</td>\n",
       "      <td>Children &amp; Family Movies, Comedies</td>\n",
       "      <td>Dragged from civilian life, a former superhero...</td>\n",
       "    </tr>\n",
       "    <tr>\n",
       "      <th>357834</th>\n",
       "      <td>s8807</td>\n",
       "      <td>Movie</td>\n",
       "      <td>Zubaan</td>\n",
       "      <td>Mozez Singh</td>\n",
       "      <td>Vicky Kaushal, Sarah-Jane Dias, Raaghav Chanan...</td>\n",
       "      <td>India</td>\n",
       "      <td>March 2, 2019</td>\n",
       "      <td>2015</td>\n",
       "      <td>TV-14</td>\n",
       "      <td>111 min</td>\n",
       "      <td>Dramas, International Movies, Music &amp; Musicals</td>\n",
       "      <td>A scrappy but poor boy worms his way into a ty...</td>\n",
       "    </tr>\n",
       "  </tbody>\n",
       "</table>\n",
       "<p>8708 rows × 12 columns</p>\n",
       "</div>"
      ],
      "text/plain": [
       "       show_id     type                 title            director  \\\n",
       "0           s1    Movie  Dick Johnson Is Dead     Kirsten Johnson   \n",
       "48          s2  TV Show         Blood & Water  Michel Tikhomiroff   \n",
       "52          s3  TV Show             Ganglands     Julien Leclercq   \n",
       "54          s5  TV Show          Kota Factory           BB Sasore   \n",
       "60          s6  TV Show         Midnight Mass       Mike Flanagan   \n",
       "...        ...      ...                   ...                 ...   \n",
       "357635   s8802    Movie               Zinzana     Majid Al Ansari   \n",
       "357749   s8803    Movie                Zodiac       David Fincher   \n",
       "357750   s8805    Movie            Zombieland     Ruben Fleischer   \n",
       "357754   s8806    Movie                  Zoom        Peter Hewitt   \n",
       "357834   s8807    Movie                Zubaan         Mozez Singh   \n",
       "\n",
       "                                                     cast  \\\n",
       "0                                                     NaN   \n",
       "48      Ama Qamata, Khosi Ngema, Gail Mabalane, Thaban...   \n",
       "52      Sami Bouajila, Tracy Gotoas, Samuel Jouy, Nabi...   \n",
       "54      Mayur More, Jitendra Kumar, Ranjan Raj, Alam K...   \n",
       "60      Kate Siegel, Zach Gilford, Hamish Linklater, H...   \n",
       "...                                                   ...   \n",
       "357635  Ali Suliman, Saleh Bakri, Yasa, Ali Al-Jabri, ...   \n",
       "357749  Mark Ruffalo, Jake Gyllenhaal, Robert Downey J...   \n",
       "357750  Jesse Eisenberg, Woody Harrelson, Emma Stone, ...   \n",
       "357754  Tim Allen, Courteney Cox, Chevy Chase, Kate Ma...   \n",
       "357834  Vicky Kaushal, Sarah-Jane Dias, Raaghav Chanan...   \n",
       "\n",
       "                             country          date_added  release_year rating  \\\n",
       "0                      United States  September 25, 2021          2020  PG-13   \n",
       "48                      South Africa  September 24, 2021          2021  TV-MA   \n",
       "52                               NaN  September 24, 2021          2021  TV-MA   \n",
       "54                             India  September 24, 2021          2021  TV-MA   \n",
       "60                               NaN  September 24, 2021          2021  TV-MA   \n",
       "...                              ...                 ...           ...    ...   \n",
       "357635  United Arab Emirates, Jordan       March 9, 2016          2015  TV-MA   \n",
       "357749                 United States   November 20, 2019          2007      R   \n",
       "357750                 United States    November 1, 2019          2009      R   \n",
       "357754                 United States    January 11, 2020          2006     PG   \n",
       "357834                         India       March 2, 2019          2015  TV-14   \n",
       "\n",
       "         duration                                          listed_in  \\\n",
       "0          90 min                                      Documentaries   \n",
       "48      2 Seasons    International TV Shows, TV Dramas, TV Mysteries   \n",
       "52       1 Season  Crime TV Shows, International TV Shows, TV Act...   \n",
       "54      2 Seasons  International TV Shows, Romantic TV Shows, TV ...   \n",
       "60       1 Season                 TV Dramas, TV Horror, TV Mysteries   \n",
       "...           ...                                                ...   \n",
       "357635     96 min            Dramas, International Movies, Thrillers   \n",
       "357749    158 min                     Cult Movies, Dramas, Thrillers   \n",
       "357750     88 min                            Comedies, Horror Movies   \n",
       "357754     88 min                 Children & Family Movies, Comedies   \n",
       "357834    111 min     Dramas, International Movies, Music & Musicals   \n",
       "\n",
       "                                              description  \n",
       "0       As her father nears the end of his life, filmm...  \n",
       "48      After crossing paths at a party, a Cape Town t...  \n",
       "52      To protect his family from a powerful drug lor...  \n",
       "54      In a city of coaching centers known to train I...  \n",
       "60      The arrival of a charismatic young priest brin...  \n",
       "...                                                   ...  \n",
       "357635  Recovering alcoholic Talal wakes up inside a s...  \n",
       "357749  A political cartoonist, a crime reporter and a...  \n",
       "357750  Looking to survive in a world taken over by zo...  \n",
       "357754  Dragged from civilian life, a former superhero...  \n",
       "357834  A scrappy but poor boy worms his way into a ty...  \n",
       "\n",
       "[8708 rows x 12 columns]"
      ]
     },
     "execution_count": 27,
     "metadata": {},
     "output_type": "execute_result"
    }
   ],
   "source": [
    "df2=df1.merge(director_fill[[\"type\",\"listed_in\",\"director\"]],on=[\"type\",\"listed_in\"],how=\"left\")\n",
    "df2[\"director\"]=np.where(df2[\"director_x\"].isna(),df2[\"director_y\"],df2[\"director_x\"])\n",
    "df2=df2[[\"show_id\",\"type\",\"title\",\"director\",\"cast\",\"country\",\"date_added\",\"release_year\",\"rating\",\"duration\",\"listed_in\",\"description\"]]\n",
    "df2=df2.drop_duplicates(subset=\"show_id\")\n",
    "df2"
   ]
  },
  {
   "cell_type": "code",
   "execution_count": 28,
   "id": "7a9cec19",
   "metadata": {},
   "outputs": [
    {
     "name": "stdout",
     "output_type": "stream",
     "text": [
      "<class 'pandas.core.frame.DataFrame'>\n",
      "Int64Index: 8708 entries, 0 to 18971439\n",
      "Data columns (total 12 columns):\n",
      " #   Column        Non-Null Count  Dtype \n",
      "---  ------        --------------  ----- \n",
      " 0   show_id       8708 non-null   object\n",
      " 1   type          8708 non-null   object\n",
      " 2   title         8708 non-null   object\n",
      " 3   director      8708 non-null   object\n",
      " 4   cast          7979 non-null   object\n",
      " 5   country       7973 non-null   object\n",
      " 6   date_added    8708 non-null   object\n",
      " 7   release_year  8708 non-null   int64 \n",
      " 8   rating        8704 non-null   object\n",
      " 9   duration      8708 non-null   object\n",
      " 10  listed_in     8708 non-null   object\n",
      " 11  description   8708 non-null   object\n",
      "dtypes: int64(1), object(11)\n",
      "memory usage: 884.4+ KB\n"
     ]
    }
   ],
   "source": [
    "df3=df2.merge(director_fill[[\"type\",\"director\"]],on=[\"type\"],how=\"left\")\n",
    "df3[\"director\"]=np.where(df3[\"director_x\"].isna(),df3[\"director_y\"],df3[\"director_x\"])\n",
    "df3=df3[[\"show_id\",\"type\",\"title\",\"director\",\"cast\",\"country\",\"date_added\",\"release_year\",\"rating\",\"duration\",\"listed_in\",\"description\"]]\n",
    "df3=df3.drop_duplicates(subset=\"show_id\")\n",
    "\n",
    "df3.info()"
   ]
  },
  {
   "cell_type": "markdown",
   "id": "314c2de3",
   "metadata": {},
   "source": [
    "# IMPUTATION OF COUNTRY"
   ]
  },
  {
   "cell_type": "code",
   "execution_count": 29,
   "id": "132e9f87",
   "metadata": {},
   "outputs": [
    {
     "data": {
      "text/html": [
       "<div>\n",
       "<style scoped>\n",
       "    .dataframe tbody tr th:only-of-type {\n",
       "        vertical-align: middle;\n",
       "    }\n",
       "\n",
       "    .dataframe tbody tr th {\n",
       "        vertical-align: top;\n",
       "    }\n",
       "\n",
       "    .dataframe thead th {\n",
       "        text-align: right;\n",
       "    }\n",
       "</style>\n",
       "<table border=\"1\" class=\"dataframe\">\n",
       "  <thead>\n",
       "    <tr style=\"text-align: right;\">\n",
       "      <th></th>\n",
       "      <th>cast</th>\n",
       "      <th>director</th>\n",
       "      <th>level_2</th>\n",
       "      <th>country</th>\n",
       "    </tr>\n",
       "  </thead>\n",
       "  <tbody>\n",
       "    <tr>\n",
       "      <th>0</th>\n",
       "      <td>50 Cent, Ryan Phillippe, Bruce Willis, Rory Ma...</td>\n",
       "      <td>Mike Gunther</td>\n",
       "      <td>0</td>\n",
       "      <td>United States</td>\n",
       "    </tr>\n",
       "    <tr>\n",
       "      <th>1</th>\n",
       "      <td>A.J. LoCascio, Sendhil Ramamurthy, Fred Tatasc...</td>\n",
       "      <td>Michael D. Black</td>\n",
       "      <td>0</td>\n",
       "      <td>United States</td>\n",
       "    </tr>\n",
       "    <tr>\n",
       "      <th>2</th>\n",
       "      <td>A.R. Rahman</td>\n",
       "      <td>Rudradeep Bhattacharjee</td>\n",
       "      <td>0</td>\n",
       "      <td>India</td>\n",
       "    </tr>\n",
       "    <tr>\n",
       "      <th>3</th>\n",
       "      <td>Aadhi, Tapsee Pannu, Ritika Singh, Vennela Kis...</td>\n",
       "      <td>Hari Nath</td>\n",
       "      <td>0</td>\n",
       "      <td>India</td>\n",
       "    </tr>\n",
       "    <tr>\n",
       "      <th>4</th>\n",
       "      <td>Aadil Khan, Sadia Khateeb, Zain Khan Durrani, ...</td>\n",
       "      <td>Vidhu Vinod Chopra</td>\n",
       "      <td>0</td>\n",
       "      <td>India</td>\n",
       "    </tr>\n",
       "    <tr>\n",
       "      <th>...</th>\n",
       "      <td>...</td>\n",
       "      <td>...</td>\n",
       "      <td>...</td>\n",
       "      <td>...</td>\n",
       "    </tr>\n",
       "    <tr>\n",
       "      <th>6035</th>\n",
       "      <td>Úrsula Corberó, Álvaro Cervantes, Najwa Nimri,...</td>\n",
       "      <td>Julio Medem</td>\n",
       "      <td>0</td>\n",
       "      <td>Spain</td>\n",
       "    </tr>\n",
       "    <tr>\n",
       "      <th>6036</th>\n",
       "      <td>İbrahim Büyükak, Zeynep Koçak, Gupse Özay, Cen...</td>\n",
       "      <td>Bedran Güzel</td>\n",
       "      <td>0</td>\n",
       "      <td>Turkey</td>\n",
       "    </tr>\n",
       "    <tr>\n",
       "      <th>6037</th>\n",
       "      <td>Şahin Irmak, İrem Sak, Gonca Vuslateri, Emre K...</td>\n",
       "      <td>Hakan Algül</td>\n",
       "      <td>0</td>\n",
       "      <td>Turkey</td>\n",
       "    </tr>\n",
       "    <tr>\n",
       "      <th>6038</th>\n",
       "      <td>Şükrü Özyıldız, Aslı Enver, Şenay Gürler, Başa...</td>\n",
       "      <td>Neslihan Yesilyurt</td>\n",
       "      <td>0</td>\n",
       "      <td>Turkey</td>\n",
       "    </tr>\n",
       "    <tr>\n",
       "      <th>6039</th>\n",
       "      <td>Ṣọpẹ́ Dìrísù, Wunmi Mosaku, Matt Smith, Malaik...</td>\n",
       "      <td>Remi Weekes</td>\n",
       "      <td>0</td>\n",
       "      <td>United Kingdom</td>\n",
       "    </tr>\n",
       "  </tbody>\n",
       "</table>\n",
       "<p>6040 rows × 4 columns</p>\n",
       "</div>"
      ],
      "text/plain": [
       "                                                   cast  \\\n",
       "0     50 Cent, Ryan Phillippe, Bruce Willis, Rory Ma...   \n",
       "1     A.J. LoCascio, Sendhil Ramamurthy, Fred Tatasc...   \n",
       "2                                           A.R. Rahman   \n",
       "3     Aadhi, Tapsee Pannu, Ritika Singh, Vennela Kis...   \n",
       "4     Aadil Khan, Sadia Khateeb, Zain Khan Durrani, ...   \n",
       "...                                                 ...   \n",
       "6035  Úrsula Corberó, Álvaro Cervantes, Najwa Nimri,...   \n",
       "6036  İbrahim Büyükak, Zeynep Koçak, Gupse Özay, Cen...   \n",
       "6037  Şahin Irmak, İrem Sak, Gonca Vuslateri, Emre K...   \n",
       "6038  Şükrü Özyıldız, Aslı Enver, Şenay Gürler, Başa...   \n",
       "6039  Ṣọpẹ́ Dìrísù, Wunmi Mosaku, Matt Smith, Malaik...   \n",
       "\n",
       "                     director  level_2         country  \n",
       "0                Mike Gunther        0   United States  \n",
       "1            Michael D. Black        0   United States  \n",
       "2     Rudradeep Bhattacharjee        0           India  \n",
       "3                   Hari Nath        0           India  \n",
       "4          Vidhu Vinod Chopra        0           India  \n",
       "...                       ...      ...             ...  \n",
       "6035              Julio Medem        0           Spain  \n",
       "6036             Bedran Güzel        0          Turkey  \n",
       "6037              Hakan Algül        0          Turkey  \n",
       "6038       Neslihan Yesilyurt        0          Turkey  \n",
       "6039              Remi Weekes        0  United Kingdom  \n",
       "\n",
       "[6040 rows x 4 columns]"
      ]
     },
     "execution_count": 29,
     "metadata": {},
     "output_type": "execute_result"
    }
   ],
   "source": [
    "country_fill=df1.groupby([\"cast\",\"director\"])[\"country\"].apply(lambda x:x.mode())\n",
    "country_fill=country_fill.reset_index()\n",
    "country_fill"
   ]
  },
  {
   "cell_type": "code",
   "execution_count": 30,
   "id": "ed07e1ca",
   "metadata": {},
   "outputs": [
    {
     "name": "stdout",
     "output_type": "stream",
     "text": [
      "<class 'pandas.core.frame.DataFrame'>\n",
      "Int64Index: 8708 entries, 0 to 9164\n",
      "Data columns (total 12 columns):\n",
      " #   Column        Non-Null Count  Dtype \n",
      "---  ------        --------------  ----- \n",
      " 0   show_id       8708 non-null   object\n",
      " 1   type          8708 non-null   object\n",
      " 2   title         8708 non-null   object\n",
      " 3   director      7068 non-null   object\n",
      " 4   cast          7979 non-null   object\n",
      " 5   country       8034 non-null   object\n",
      " 6   date_added    8708 non-null   object\n",
      " 7   release_year  8708 non-null   int64 \n",
      " 8   rating        8704 non-null   object\n",
      " 9   duration      8708 non-null   object\n",
      " 10  listed_in     8708 non-null   object\n",
      " 11  description   8708 non-null   object\n",
      "dtypes: int64(1), object(11)\n",
      "memory usage: 884.4+ KB\n"
     ]
    }
   ],
   "source": [
    "df1=df1.merge(country_fill,on=[\"cast\",\"director\"],how=\"left\")\n",
    "df1[\"country\"]=np.where(df1[\"country_x\"].isna(),df1[\"country_y\"],df1[\"country_x\"])\n",
    "df1=df1[[\"show_id\",\"type\",\"title\",\"director\",\"cast\",\"country\",\"date_added\",\"release_year\",\"rating\",\"duration\",\"listed_in\",\"description\"]]\n",
    "df1=df1.drop_duplicates(subset=\"show_id\")\n",
    "\n",
    "df2=df1.merge(country_fill[[\"country\",\"cast\"]],on=[\"cast\"],how=\"left\")\n",
    "df2[\"country\"]=np.where(df2[\"country_x\"].isna(),df2[\"country_y\"],df2[\"country_x\"])\n",
    "df2=df2[[\"show_id\",\"type\",\"title\",\"director\",\"cast\",\"country\",\"date_added\",\"release_year\",\"rating\",\"duration\",\"listed_in\",\"description\"]]\n",
    "df2=df2.drop_duplicates(subset=\"show_id\")\n",
    "\n",
    "df2.info()"
   ]
  },
  {
   "cell_type": "code",
   "execution_count": 31,
   "id": "bf0db867",
   "metadata": {},
   "outputs": [
    {
     "name": "stdout",
     "output_type": "stream",
     "text": [
      "<class 'pandas.core.frame.DataFrame'>\n",
      "Int64Index: 8708 entries, 0 to 9164\n",
      "Data columns (total 12 columns):\n",
      " #   Column        Non-Null Count  Dtype \n",
      "---  ------        --------------  ----- \n",
      " 0   show_id       8708 non-null   object\n",
      " 1   type          8708 non-null   object\n",
      " 2   title         8708 non-null   object\n",
      " 3   director      7068 non-null   object\n",
      " 4   cast          7979 non-null   object\n",
      " 5   country       8708 non-null   object\n",
      " 6   date_added    8708 non-null   object\n",
      " 7   release_year  8708 non-null   int64 \n",
      " 8   rating        8704 non-null   object\n",
      " 9   duration      8708 non-null   object\n",
      " 10  listed_in     8708 non-null   object\n",
      " 11  description   8708 non-null   object\n",
      "dtypes: int64(1), object(11)\n",
      "memory usage: 884.4+ KB\n"
     ]
    }
   ],
   "source": [
    "Not_available=df[\"country\"].mode()[0]\n",
    "df2[\"country\"]=df2[\"country\"].fillna(Not_available)\n",
    "df2.info()"
   ]
  },
  {
   "cell_type": "markdown",
   "id": "a4407f75",
   "metadata": {},
   "source": [
    "## CONVERTING OBJECT TO DATETIME"
   ]
  },
  {
   "cell_type": "code",
   "execution_count": 32,
   "id": "0aace8c4",
   "metadata": {},
   "outputs": [
    {
     "name": "stdout",
     "output_type": "stream",
     "text": [
      "<class 'pandas.core.frame.DataFrame'>\n",
      "Int64Index: 8708 entries, 0 to 9164\n",
      "Data columns (total 12 columns):\n",
      " #   Column        Non-Null Count  Dtype         \n",
      "---  ------        --------------  -----         \n",
      " 0   show_id       8708 non-null   object        \n",
      " 1   type          8708 non-null   object        \n",
      " 2   title         8708 non-null   object        \n",
      " 3   director      7068 non-null   object        \n",
      " 4   cast          7979 non-null   object        \n",
      " 5   country       8708 non-null   object        \n",
      " 6   date_added    8708 non-null   datetime64[ns]\n",
      " 7   release_year  8708 non-null   int64         \n",
      " 8   rating        8704 non-null   object        \n",
      " 9   duration      8708 non-null   object        \n",
      " 10  listed_in     8708 non-null   object        \n",
      " 11  description   8708 non-null   object        \n",
      "dtypes: datetime64[ns](1), int64(1), object(10)\n",
      "memory usage: 884.4+ KB\n"
     ]
    }
   ],
   "source": [
    "df2[\"date_added\"]=pd.to_datetime(df2[\"date_added\"])\n",
    "df2.info()"
   ]
  },
  {
   "cell_type": "markdown",
   "id": "1387eb91",
   "metadata": {},
   "source": [
    "## 2. Un-nesting the columns and handling the missing values"
   ]
  },
  {
   "cell_type": "code",
   "execution_count": 33,
   "id": "d3c39b29",
   "metadata": {},
   "outputs": [],
   "source": [
    "#Unnesting cast,director,country,listed_in(genre)"
   ]
  },
  {
   "cell_type": "markdown",
   "id": "2dcfecc6",
   "metadata": {},
   "source": [
    "- Unnesting directors"
   ]
  },
  {
   "cell_type": "code",
   "execution_count": 155,
   "id": "898af645",
   "metadata": {},
   "outputs": [],
   "source": [
    "unnest_column=df1[\"director\"].str.split(\",\",expand=True).add_prefix(\"director\")"
   ]
  },
  {
   "cell_type": "code",
   "execution_count": 156,
   "id": "a7a5c959",
   "metadata": {},
   "outputs": [],
   "source": [
    "df2=df1.merge(unnest_column,left_index=True,right_index=True)\n",
    "df2.drop(\"director\",axis=1,inplace=True)  # To drop original director's column"
   ]
  },
  {
   "cell_type": "code",
   "execution_count": 157,
   "id": "27164a72",
   "metadata": {},
   "outputs": [],
   "source": [
    "df3=pd.melt(df2,id_vars=[\"show_id\",\"type\",\"title\",\"cast\",\"country\",\"date_added\",\"release_year\",\"rating\",\"duration\",\"listed_in\",\"description\"]\n",
    "                        ,value_name=\"director\").drop(\"variable\",axis=1)  "
   ]
  },
  {
   "cell_type": "code",
   "execution_count": 158,
   "id": "02a938c7",
   "metadata": {},
   "outputs": [],
   "source": [
    "df3.dropna(subset=[\"director\"],inplace=True)   #Dropping None values"
   ]
  },
  {
   "cell_type": "code",
   "execution_count": 159,
   "id": "c4e2dc4e",
   "metadata": {},
   "outputs": [
    {
     "name": "stdout",
     "output_type": "stream",
     "text": [
      "<class 'pandas.core.frame.DataFrame'>\n",
      "RangeIndex: 159527 entries, 0 to 159526\n",
      "Data columns (total 12 columns):\n",
      " #   Column        Non-Null Count   Dtype \n",
      "---  ------        --------------   ----- \n",
      " 0   show_id       159527 non-null  object\n",
      " 1   type          159527 non-null  object\n",
      " 2   title         159527 non-null  object\n",
      " 3   cast          159527 non-null  object\n",
      " 4   country       159527 non-null  object\n",
      " 5   date_added    159527 non-null  object\n",
      " 6   release_year  159527 non-null  int64 \n",
      " 7   rating        159476 non-null  object\n",
      " 8   duration      159527 non-null  object\n",
      " 9   listed_in     159527 non-null  object\n",
      " 10  description   159527 non-null  object\n",
      " 11  director      159527 non-null  object\n",
      "dtypes: int64(1), object(11)\n",
      "memory usage: 14.6+ MB\n"
     ]
    }
   ],
   "source": [
    "df1=df3\n",
    "df1.info()"
   ]
  },
  {
   "cell_type": "code",
   "execution_count": 43,
   "id": "685e2f1e",
   "metadata": {},
   "outputs": [
    {
     "data": {
      "text/html": [
       "<div>\n",
       "<style scoped>\n",
       "    .dataframe tbody tr th:only-of-type {\n",
       "        vertical-align: middle;\n",
       "    }\n",
       "\n",
       "    .dataframe tbody tr th {\n",
       "        vertical-align: top;\n",
       "    }\n",
       "\n",
       "    .dataframe thead th {\n",
       "        text-align: right;\n",
       "    }\n",
       "</style>\n",
       "<table border=\"1\" class=\"dataframe\">\n",
       "  <thead>\n",
       "    <tr style=\"text-align: right;\">\n",
       "      <th></th>\n",
       "      <th>show_id</th>\n",
       "      <th>type</th>\n",
       "      <th>title</th>\n",
       "      <th>director</th>\n",
       "      <th>cast</th>\n",
       "      <th>listed_in</th>\n",
       "      <th>date_added</th>\n",
       "      <th>release_year</th>\n",
       "      <th>rating</th>\n",
       "      <th>duration</th>\n",
       "      <th>description</th>\n",
       "      <th>country</th>\n",
       "    </tr>\n",
       "  </thead>\n",
       "  <tbody>\n",
       "    <tr>\n",
       "      <th>0</th>\n",
       "      <td>s1</td>\n",
       "      <td>Movie</td>\n",
       "      <td>Dick Johnson Is Dead</td>\n",
       "      <td>Kirsten Johnson</td>\n",
       "      <td>NaN</td>\n",
       "      <td>Documentaries</td>\n",
       "      <td>September 25, 2021</td>\n",
       "      <td>2020</td>\n",
       "      <td>PG-13</td>\n",
       "      <td>90 min</td>\n",
       "      <td>As her father nears the end of his life, filmm...</td>\n",
       "      <td>United States</td>\n",
       "    </tr>\n",
       "    <tr>\n",
       "      <th>4</th>\n",
       "      <td>s8</td>\n",
       "      <td>Movie</td>\n",
       "      <td>Sankofa</td>\n",
       "      <td>Haile Gerima</td>\n",
       "      <td>Kofi Ghanaba, Oyafunmike Ogunlano, Alexandra D...</td>\n",
       "      <td>Dramas, Independent Movies, International Movies</td>\n",
       "      <td>September 24, 2021</td>\n",
       "      <td>1993</td>\n",
       "      <td>TV-MA</td>\n",
       "      <td>125 min</td>\n",
       "      <td>On a photo shoot in Ghana, an American model s...</td>\n",
       "      <td>United States</td>\n",
       "    </tr>\n",
       "    <tr>\n",
       "      <th>5</th>\n",
       "      <td>s9</td>\n",
       "      <td>TV Show</td>\n",
       "      <td>The Great British Baking Show</td>\n",
       "      <td>Andy Devonshire</td>\n",
       "      <td>Mel Giedroyc, Sue Perkins, Mary Berry, Paul Ho...</td>\n",
       "      <td>British TV Shows, Reality TV</td>\n",
       "      <td>September 24, 2021</td>\n",
       "      <td>2021</td>\n",
       "      <td>TV-14</td>\n",
       "      <td>9 Seasons</td>\n",
       "      <td>A talented batch of amateur bakers face off in...</td>\n",
       "      <td>United Kingdom</td>\n",
       "    </tr>\n",
       "  </tbody>\n",
       "</table>\n",
       "</div>"
      ],
      "text/plain": [
       "  show_id     type                          title         director  \\\n",
       "0      s1    Movie           Dick Johnson Is Dead  Kirsten Johnson   \n",
       "4      s8    Movie                        Sankofa     Haile Gerima   \n",
       "5      s9  TV Show  The Great British Baking Show  Andy Devonshire   \n",
       "\n",
       "                                                cast  \\\n",
       "0                                                NaN   \n",
       "4  Kofi Ghanaba, Oyafunmike Ogunlano, Alexandra D...   \n",
       "5  Mel Giedroyc, Sue Perkins, Mary Berry, Paul Ho...   \n",
       "\n",
       "                                          listed_in          date_added  \\\n",
       "0                                     Documentaries  September 25, 2021   \n",
       "4  Dramas, Independent Movies, International Movies  September 24, 2021   \n",
       "5                      British TV Shows, Reality TV  September 24, 2021   \n",
       "\n",
       "   release_year rating   duration  \\\n",
       "0          2020  PG-13     90 min   \n",
       "4          1993  TV-MA    125 min   \n",
       "5          2021  TV-14  9 Seasons   \n",
       "\n",
       "                                         description         country  \n",
       "0  As her father nears the end of his life, filmm...   United States  \n",
       "4  On a photo shoot in Ghana, an American model s...   United States  \n",
       "5  A talented batch of amateur bakers face off in...  United Kingdom  "
      ]
     },
     "execution_count": 43,
     "metadata": {},
     "output_type": "execute_result"
    }
   ],
   "source": [
    "df1.head(3)"
   ]
  },
  {
   "cell_type": "markdown",
   "id": "1dd84dfd",
   "metadata": {},
   "source": [
    " - Unnesting listed_in(Genre)"
   ]
  },
  {
   "cell_type": "code",
   "execution_count": 160,
   "id": "46d2e4db",
   "metadata": {},
   "outputs": [
    {
     "data": {
      "text/html": [
       "<div>\n",
       "<style scoped>\n",
       "    .dataframe tbody tr th:only-of-type {\n",
       "        vertical-align: middle;\n",
       "    }\n",
       "\n",
       "    .dataframe tbody tr th {\n",
       "        vertical-align: top;\n",
       "    }\n",
       "\n",
       "    .dataframe thead th {\n",
       "        text-align: right;\n",
       "    }\n",
       "</style>\n",
       "<table border=\"1\" class=\"dataframe\">\n",
       "  <thead>\n",
       "    <tr style=\"text-align: right;\">\n",
       "      <th></th>\n",
       "      <th>show_id</th>\n",
       "      <th>type</th>\n",
       "      <th>title</th>\n",
       "      <th>director</th>\n",
       "      <th>cast</th>\n",
       "      <th>country</th>\n",
       "      <th>date_added</th>\n",
       "      <th>release_year</th>\n",
       "      <th>rating</th>\n",
       "      <th>duration</th>\n",
       "      <th>description</th>\n",
       "      <th>listed_in</th>\n",
       "    </tr>\n",
       "  </thead>\n",
       "  <tbody>\n",
       "    <tr>\n",
       "      <th>0</th>\n",
       "      <td>s8</td>\n",
       "      <td>Movie</td>\n",
       "      <td>Sankofa</td>\n",
       "      <td>Haile Gerima</td>\n",
       "      <td>Kofi Ghanaba</td>\n",
       "      <td>United States</td>\n",
       "      <td>September 24, 2021</td>\n",
       "      <td>1993</td>\n",
       "      <td>TV-MA</td>\n",
       "      <td>125 min</td>\n",
       "      <td>On a photo shoot in Ghana, an American model s...</td>\n",
       "      <td>Dramas</td>\n",
       "    </tr>\n",
       "    <tr>\n",
       "      <th>1</th>\n",
       "      <td>s9</td>\n",
       "      <td>TV Show</td>\n",
       "      <td>The Great British Baking Show</td>\n",
       "      <td>Andy Devonshire</td>\n",
       "      <td>Mel Giedroyc</td>\n",
       "      <td>United Kingdom</td>\n",
       "      <td>September 24, 2021</td>\n",
       "      <td>2021</td>\n",
       "      <td>TV-14</td>\n",
       "      <td>9 Seasons</td>\n",
       "      <td>A talented batch of amateur bakers face off in...</td>\n",
       "      <td>British TV Shows</td>\n",
       "    </tr>\n",
       "    <tr>\n",
       "      <th>2</th>\n",
       "      <td>s10</td>\n",
       "      <td>Movie</td>\n",
       "      <td>The Starling</td>\n",
       "      <td>Theodore Melfi</td>\n",
       "      <td>Melissa McCarthy</td>\n",
       "      <td>United States</td>\n",
       "      <td>September 24, 2021</td>\n",
       "      <td>2021</td>\n",
       "      <td>PG-13</td>\n",
       "      <td>104 min</td>\n",
       "      <td>A woman adjusting to life after a loss contend...</td>\n",
       "      <td>Comedies</td>\n",
       "    </tr>\n",
       "  </tbody>\n",
       "</table>\n",
       "</div>"
      ],
      "text/plain": [
       "  show_id     type                          title         director  \\\n",
       "0      s8    Movie                        Sankofa     Haile Gerima   \n",
       "1      s9  TV Show  The Great British Baking Show  Andy Devonshire   \n",
       "2     s10    Movie                   The Starling   Theodore Melfi   \n",
       "\n",
       "               cast         country          date_added  release_year rating  \\\n",
       "0      Kofi Ghanaba   United States  September 24, 2021          1993  TV-MA   \n",
       "1      Mel Giedroyc  United Kingdom  September 24, 2021          2021  TV-14   \n",
       "2  Melissa McCarthy   United States  September 24, 2021          2021  PG-13   \n",
       "\n",
       "    duration                                        description  \\\n",
       "0    125 min  On a photo shoot in Ghana, an American model s...   \n",
       "1  9 Seasons  A talented batch of amateur bakers face off in...   \n",
       "2    104 min  A woman adjusting to life after a loss contend...   \n",
       "\n",
       "          listed_in  \n",
       "0            Dramas  \n",
       "1  British TV Shows  \n",
       "2          Comedies  "
      ]
     },
     "execution_count": 160,
     "metadata": {},
     "output_type": "execute_result"
    }
   ],
   "source": [
    "unnest_column=df1[\"listed_in\"].str.split(\",\",expand=True).add_prefix(\"listed_in\")\n",
    "df2=df1.merge(unnest_column,left_index=True,right_index=True)\n",
    "df2.drop(\"listed_in\",axis=1,inplace=True)\n",
    "df3=pd.melt(df2,id_vars=[\"show_id\",\"type\",\"title\",\"director\",\"cast\",\"country\",\"date_added\",\"release_year\",\"rating\",\"duration\",\"description\"]\n",
    "                        ,value_name=\"listed_in\").drop(\"variable\",axis=1) \n",
    "\n",
    "df3.dropna(subset=[\"listed_in\"],inplace=True)\n",
    "df1=df3\n",
    "df1.head(3)"
   ]
  },
  {
   "cell_type": "markdown",
   "id": "6bb39fb8",
   "metadata": {},
   "source": [
    " - Unnesting country"
   ]
  },
  {
   "cell_type": "code",
   "execution_count": 161,
   "id": "4ae4167e",
   "metadata": {},
   "outputs": [
    {
     "name": "stdout",
     "output_type": "stream",
     "text": [
      "<class 'pandas.core.frame.DataFrame'>\n",
      "RangeIndex: 159527 entries, 0 to 159526\n",
      "Data columns (total 12 columns):\n",
      " #   Column        Non-Null Count   Dtype \n",
      "---  ------        --------------   ----- \n",
      " 0   show_id       159527 non-null  object\n",
      " 1   type          159527 non-null  object\n",
      " 2   title         159527 non-null  object\n",
      " 3   director      159527 non-null  object\n",
      " 4   cast          159527 non-null  object\n",
      " 5   listed_in     159527 non-null  object\n",
      " 6   date_added    159527 non-null  object\n",
      " 7   release_year  159527 non-null  int64 \n",
      " 8   rating        159476 non-null  object\n",
      " 9   duration      159527 non-null  object\n",
      " 10  description   159527 non-null  object\n",
      " 11  country       159527 non-null  object\n",
      "dtypes: int64(1), object(11)\n",
      "memory usage: 14.6+ MB\n"
     ]
    }
   ],
   "source": [
    "unnest_column=df1[\"country\"].str.split(\",\",expand=True).add_prefix(\"country\")\n",
    "df2=df1.merge(unnest_column,left_index=True,right_index=True)\n",
    "df2.drop(\"country\",axis=1,inplace=True)\n",
    "df3=pd.melt(df2,id_vars=[\"show_id\",\"type\",\"title\",\"director\",\"cast\",\"listed_in\",\"date_added\",\"release_year\",\"rating\",\"duration\",\"description\"]\n",
    "                        ,value_name=\"country\").drop(\"variable\",axis=1) \n",
    "\n",
    "df3.dropna(subset=[\"country\"],inplace=True)\n",
    "df1=df3\n",
    "df1.info()"
   ]
  },
  {
   "cell_type": "markdown",
   "id": "250ad24f",
   "metadata": {},
   "source": [
    " - Unnesting cast"
   ]
  },
  {
   "cell_type": "code",
   "execution_count": 162,
   "id": "f70a72a8",
   "metadata": {},
   "outputs": [
    {
     "name": "stdout",
     "output_type": "stream",
     "text": [
      "<class 'pandas.core.frame.DataFrame'>\n",
      "RangeIndex: 159527 entries, 0 to 159526\n",
      "Data columns (total 12 columns):\n",
      " #   Column        Non-Null Count   Dtype \n",
      "---  ------        --------------   ----- \n",
      " 0   show_id       159527 non-null  object\n",
      " 1   type          159527 non-null  object\n",
      " 2   title         159527 non-null  object\n",
      " 3   director      159527 non-null  object\n",
      " 4   listed_in     159527 non-null  object\n",
      " 5   country       159527 non-null  object\n",
      " 6   date_added    159527 non-null  object\n",
      " 7   release_year  159527 non-null  int64 \n",
      " 8   rating        159476 non-null  object\n",
      " 9   duration      159527 non-null  object\n",
      " 10  description   159527 non-null  object\n",
      " 11  cast          159527 non-null  object\n",
      "dtypes: int64(1), object(11)\n",
      "memory usage: 14.6+ MB\n"
     ]
    }
   ],
   "source": [
    "unnest_column=df1[\"cast\"].str.split(\",\",expand=True).add_prefix(\"cast\")\n",
    "df2=df1.merge(unnest_column,left_index=True,right_index=True)\n",
    "df2.drop(\"cast\",axis=1,inplace=True)\n",
    "df3=pd.melt(df2,id_vars=[\"show_id\",\"type\",\"title\",\"director\",\"listed_in\",\"country\",\"date_added\",\"release_year\",\"rating\",\"duration\",\"description\"]\n",
    "                        ,value_name=\"cast\").drop(\"variable\",axis=1) \n",
    "\n",
    "df3.dropna(subset=[\"cast\"],inplace=True)\n",
    "df1=df3\n",
    "df1.info()"
   ]
  },
  {
   "cell_type": "code",
   "execution_count": 52,
   "id": "6b3efc88",
   "metadata": {},
   "outputs": [
    {
     "data": {
      "text/plain": [
       "United States     22365\n",
       "India              8277\n",
       " United States     3600\n",
       "United Kingdom     3511\n",
       "Japan              2215\n",
       "Canada             1620\n",
       " France            1572\n",
       "South Korea        1500\n",
       " Canada            1409\n",
       "Spain              1390\n",
       "Name: country, dtype: int64"
      ]
     },
     "execution_count": 52,
     "metadata": {},
     "output_type": "execute_result"
    }
   ],
   "source": [
    "df1[\"country\"].value_counts().head(10)"
   ]
  },
  {
   "cell_type": "markdown",
   "id": "f97ab069",
   "metadata": {},
   "source": [
    "# <font color=green>\n",
    "\n",
    "<b> Unnesting cast,director,country,listed_in is done \n",
    "Handling none values and imputaion is also done succesfully </b>\n",
    "\n"
   ]
  },
  {
   "cell_type": "markdown",
   "id": "558aa425",
   "metadata": {},
   "source": [
    "## Analysis \n",
    "\n",
    "Business problem : Analyze the data and generate insights that could help Netflix ijn deciding which type of shows/movies to produce and how they can grow the business in different countries"
   ]
  },
  {
   "cell_type": "markdown",
   "id": "80a7ae45",
   "metadata": {},
   "source": [
    "Q1: _Find the counts of each categorical variable both using graphical and non-graphical analysis_."
   ]
  },
  {
   "cell_type": "code",
   "execution_count": 119,
   "id": "4053f990",
   "metadata": {},
   "outputs": [
    {
     "data": {
      "text/plain": [
       "Movie      138800\n",
       "TV Show     20727\n",
       "Name: type, dtype: int64"
      ]
     },
     "execution_count": 119,
     "metadata": {},
     "output_type": "execute_result"
    }
   ],
   "source": [
    "#Non graphical\n",
    "\n",
    "df1[\"type\"].value_counts()"
   ]
  },
  {
   "cell_type": "code",
   "execution_count": 120,
   "id": "9992d544",
   "metadata": {},
   "outputs": [
    {
     "data": {
      "text/plain": [
       "Movie      138800\n",
       "TV Show     20727\n",
       "Name: type, dtype: int64"
      ]
     },
     "execution_count": 120,
     "metadata": {},
     "output_type": "execute_result"
    }
   ],
   "source": [
    "type_counts=df1[\"type\"].value_counts()\n",
    "type_counts"
   ]
  },
  {
   "cell_type": "code",
   "execution_count": 121,
   "id": "327604c6",
   "metadata": {},
   "outputs": [],
   "source": [
    "x=type_counts.index\n",
    "y=type_counts"
   ]
  },
  {
   "cell_type": "code",
   "execution_count": 122,
   "id": "ce3053c8",
   "metadata": {},
   "outputs": [
    {
     "data": {
      "image/png": "[encoded data removed]",
      "text/plain": [
       "<Figure size 600x400 with 1 Axes>"
      ]
     },
     "metadata": {},
     "output_type": "display_data"
    }
   ],
   "source": [
    "#Graphical\n",
    "\n",
    "plt.figure(figsize=[6,4])\n",
    "plt.bar(x,y,width=0.2,color=\"purple\")\n",
    "plt.xticks(rotation = 90, fontsize = 8)\n",
    "plt.xlabel(\"Type\",fontsize=12)\n",
    "plt.ylabel(\"Count\",fontsize=12)\n",
    "plt.title(\"TV SHOWS VS MOVIES\")\n",
    "plt.show()"
   ]
  },
  {
   "cell_type": "code",
   "execution_count": 123,
   "id": "971b3c07",
   "metadata": {},
   "outputs": [
    {
     "data": {
      "text/plain": [
       "Movie      138800\n",
       "TV Show     20727\n",
       "Name: type, dtype: int64"
      ]
     },
     "execution_count": 123,
     "metadata": {},
     "output_type": "execute_result"
    }
   ],
   "source": [
    "df1[\"type\"].value_counts()"
   ]
  },
  {
   "cell_type": "code",
   "execution_count": 124,
   "id": "b3eb5846",
   "metadata": {},
   "outputs": [
    {
     "data": {
      "text/plain": [
       "Hayato Date        1846\n",
       "Shin Won-ho        1320\n",
       "Felipe Cano         744\n",
       "Kenny Ortega        646\n",
       "Hsu Fu-chun         612\n",
       "                   ... \n",
       "Milton Horowitz       1\n",
       "Matthew Cooke         1\n",
       "Max Amini             1\n",
       "Jason Orley           1\n",
       "Ben Simms             1\n",
       "Name: director, Length: 4420, dtype: int64"
      ]
     },
     "execution_count": 124,
     "metadata": {},
     "output_type": "execute_result"
    }
   ],
   "source": [
    "df1[\"director\"].value_counts()"
   ]
  },
  {
   "cell_type": "code",
   "execution_count": 125,
   "id": "ef8d51d9",
   "metadata": {},
   "outputs": [
    {
     "data": {
      "text/plain": [
       "United States     42036\n",
       "India             22090\n",
       "United Kingdom     7925\n",
       " United States     7720\n",
       "Japan              5126\n",
       "                  ...  \n",
       " Panama               2\n",
       " Sri Lanka            2\n",
       " Afghanistan          2\n",
       "Venezuela             2\n",
       " Nicaragua            1\n",
       "Name: country, Length: 175, dtype: int64"
      ]
     },
     "execution_count": 125,
     "metadata": {},
     "output_type": "execute_result"
    }
   ],
   "source": [
    "df1[\"country\"].value_counts()"
   ]
  },
  {
   "cell_type": "code",
   "execution_count": 126,
   "id": "dd52e986",
   "metadata": {},
   "outputs": [
    {
     "data": {
      "text/plain": [
       " International Movies    25411\n",
       "Dramas                   19022\n",
       "Comedies                 13344\n",
       "Action & Adventure       11834\n",
       " Dramas                   9876\n",
       "                         ...  \n",
       "Classic & Cult TV           18\n",
       " Reality TV                 15\n",
       "Romantic TV Shows           11\n",
       " Science & Nature TV        11\n",
       "LGBTQ Movies                 5\n",
       "Name: listed_in, Length: 70, dtype: int64"
      ]
     },
     "execution_count": 126,
     "metadata": {},
     "output_type": "execute_result"
    }
   ],
   "source": [
    "df1[\"listed_in\"].value_counts()"
   ]
  },
  {
   "cell_type": "markdown",
   "id": "55acc960",
   "metadata": {},
   "source": [
    "## - Comparison of tv shows vs. movies¶"
   ]
  },
  {
   "cell_type": "markdown",
   "id": "eb93af61",
   "metadata": {},
   "source": [
    "Q2: _How many movies and shows are in the dataset? Show with the bar graph_."
   ]
  },
  {
   "cell_type": "code",
   "execution_count": 127,
   "id": "0cae28f1",
   "metadata": {},
   "outputs": [
    {
     "data": {
      "text/plain": [
       "Movie      138800\n",
       "TV Show     20727\n",
       "Name: type, dtype: int64"
      ]
     },
     "execution_count": 127,
     "metadata": {},
     "output_type": "execute_result"
    }
   ],
   "source": [
    "df1[\"type\"].value_counts()"
   ]
  },
  {
   "cell_type": "code",
   "execution_count": 128,
   "id": "e54be1cd",
   "metadata": {},
   "outputs": [
    {
     "data": {
      "text/plain": [
       "Text(0.5, 1.0, 'TV SHOWS VS MOVIES')"
      ]
     },
     "execution_count": 128,
     "metadata": {},
     "output_type": "execute_result"
    },
    {
     "data": {
      "image/png": "[encoded data removed]",
      "text/plain": [
       "<Figure size 1000x600 with 1 Axes>"
      ]
     },
     "metadata": {},
     "output_type": "display_data"
    }
   ],
   "source": [
    "#USING SEABORN\n",
    "plt.figure(figsize=[10,6])\n",
    "sns.countplot(data=df1,\n",
    "              x=\"type\"),\n",
    "\n",
    "       \n",
    "plt.xticks(rotation=45,fontsize=10)\n",
    "plt.xlabel(\"Type\",fontsize=12)\n",
    "plt.ylabel(\"Count\",fontsize=12)\n",
    "plt.title(\"TV SHOWS VS MOVIES\")"
   ]
  },
  {
   "cell_type": "markdown",
   "id": "8b4c8dfc",
   "metadata": {},
   "source": [
    "## Business Insights\n",
    " - We can clearly see that Movies are the released in huge numbers than TV Shows which indicates that audience enjoy movies than TV Shows may be due to the less duration in movies \n",
    " \n",
    "## Recommendations\n",
    " - We should add more number of TV Shows to the platform to increase its viewership as well\n",
    " - More and more movies can be released as it has high audience"
   ]
  },
  {
   "cell_type": "markdown",
   "id": "c1d46a99",
   "metadata": {},
   "source": [
    "Q3: _What type of content is available in various countries?_."
   ]
  },
  {
   "cell_type": "code",
   "execution_count": 130,
   "id": "4734cf53",
   "metadata": {},
   "outputs": [
    {
     "data": {
      "text/plain": [
       "0     United States\n",
       "1             India\n",
       "2    United Kingdom\n",
       "3     United States\n",
       "4             Japan\n",
       "5       South Korea\n",
       "6             Spain\n",
       "7            France\n",
       "8            France\n",
       "9            Canada\n",
       "Name: index, dtype: object"
      ]
     },
     "execution_count": 130,
     "metadata": {},
     "output_type": "execute_result"
    }
   ],
   "source": [
    "countries=df1[\"country\"].value_counts().head(10)\n",
    "countries=countries.reset_index()\n",
    "countries[\"index\"]"
   ]
  },
  {
   "cell_type": "code",
   "execution_count": 163,
   "id": "33ddf478",
   "metadata": {},
   "outputs": [
    {
     "data": {
      "image/png": "[encoded data removed]",
      "text/plain": [
       "<Figure size 640x480 with 1 Axes>"
      ]
     },
     "metadata": {},
     "output_type": "display_data"
    }
   ],
   "source": [
    "data=df1[df1[\"country\"].isin(countries[\"index\"])]\n",
    "\n",
    "sns.countplot(data=data,y=\"country\",hue=\"type\")\n",
    "plt.xticks(rotation=90)\n",
    "plt.show()"
   ]
  },
  {
   "cell_type": "markdown",
   "id": "82bcd5a8",
   "metadata": {},
   "source": [
    "## Business Insights\n",
    " - After analysing the top 10 countries,the Dodged bar chart shows that US and India tops the market for Movies.\n",
    " - US tops the market for TV Shows .\n",
    " -Compared to other European counties UK holds the top markets for both movies and TV Shows.\n",
    " -There are hardly any TV Shows coming from Canada and France\n",
    " -Japan and South Korea has more viewership in TV Shows than in Movies.\n",
    "\n",
    "## Recommendations\n",
    " - In India and US we can increase the number of movies produced per year as it has large audience\n",
    " - We can produce more TV Shows in Japan and South Korea as it has more viewers "
   ]
  },
  {
   "cell_type": "markdown",
   "id": "2d67aa0c",
   "metadata": {},
   "source": [
    "Q4: _In which year highest number of TV Shows and Movies were released? Show with bar graph_.\n"
   ]
  },
  {
   "cell_type": "code",
   "execution_count": 132,
   "id": "8cabc383",
   "metadata": {},
   "outputs": [
    {
     "data": {
      "text/plain": [
       "2018    18652\n",
       "2017    16737\n",
       "2016    15411\n",
       "2019    14901\n",
       "2020    12236\n",
       "        ...  \n",
       "1959       12\n",
       "1945        8\n",
       "1947        8\n",
       "1942        4\n",
       "1946        2\n",
       "Name: release_year, Length: 72, dtype: int64"
      ]
     },
     "execution_count": 132,
     "metadata": {},
     "output_type": "execute_result"
    }
   ],
   "source": [
    "year_counts=df1[\"release_year\"].value_counts()\n",
    "year_counts"
   ]
  },
  {
   "cell_type": "code",
   "execution_count": 133,
   "id": "1794e8d3",
   "metadata": {},
   "outputs": [],
   "source": [
    "x=year_counts.index\n",
    "y=year_counts"
   ]
  },
  {
   "cell_type": "code",
   "execution_count": 134,
   "id": "4c92322a",
   "metadata": {},
   "outputs": [],
   "source": [
    "y_list=list(df1[\"release_year\"].value_counts().index)"
   ]
  },
  {
   "cell_type": "code",
   "execution_count": 135,
   "id": "1615a04a",
   "metadata": {},
   "outputs": [],
   "source": [
    "df1_sorted=y_list.sort()"
   ]
  },
  {
   "cell_type": "code",
   "execution_count": 136,
   "id": "f5370f6c",
   "metadata": {},
   "outputs": [
    {
     "data": {
      "image/png": "[encoded data removed]",
      "text/plain": [
       "<Figure size 1500x1000 with 1 Axes>"
      ]
     },
     "metadata": {},
     "output_type": "display_data"
    }
   ],
   "source": [
    "#Show with bar graph\n",
    "\n",
    "plt.figure(figsize=[15,10])\n",
    "year_counts.plot(kind=\"bar\",width=0.5,color=\"green\")\n",
    "plt.xlabel(\"Year\",fontsize=10)\n",
    "plt.ylabel(\"Count\",fontsize=10)    \n",
    "plt.title(\"TV Shows and Movies released year\")\n",
    "plt.show()\n"
   ]
  },
  {
   "cell_type": "code",
   "execution_count": 78,
   "id": "d4457887",
   "metadata": {},
   "outputs": [
    {
     "data": {
      "image/png": "[encoded data removed]",
      "text/plain": [
       "<Figure size 1500x1000 with 1 Axes>"
      ]
     },
     "metadata": {},
     "output_type": "display_data"
    }
   ],
   "source": [
    "plt.figure (figsize=(15,10))\n",
    "\n",
    "ax=sns.countplot(data=df1,\n",
    "              x=\"release_year\",\n",
    "             order=y_list,\n",
    "             width=1,\n",
    "             palette=\"Paired\")\n",
    "\n",
    "#ax containers\n",
    "\n",
    "for i in ax.containers:\n",
    "    ax.bar_label(i)\n",
    "\n",
    "plt.xticks(rotation=90,fontsize=9)\n",
    "plt.title(\"TV Shows and Movies released year\")\n",
    "plt.show()"
   ]
  },
  {
   "cell_type": "markdown",
   "id": "d13ef69d",
   "metadata": {},
   "source": [
    "## <b> OBSERVATION </b>\n",
    " - 2018 HAS HIGHEST NUMBER OF TV SHOWS AND MOVIES RELEASED (COUNT=7971) AND SHOWED THE HIGHEST PEAK FOLLOWING WHICH THERE HAS BEEN A DECREASE IN THE MOVIES AND SHOWS RELEASED\n",
    "\n",
    "\n"
   ]
  },
  {
   "cell_type": "markdown",
   "id": "c5ea8908",
   "metadata": {},
   "source": [
    "Q5: _Show the top 5 movies released based on their year of release_"
   ]
  },
  {
   "cell_type": "code",
   "execution_count": 137,
   "id": "b6331ce9",
   "metadata": {},
   "outputs": [
    {
     "data": {
      "text/html": [
       "<div>\n",
       "<style scoped>\n",
       "    .dataframe tbody tr th:only-of-type {\n",
       "        vertical-align: middle;\n",
       "    }\n",
       "\n",
       "    .dataframe tbody tr th {\n",
       "        vertical-align: top;\n",
       "    }\n",
       "\n",
       "    .dataframe thead th {\n",
       "        text-align: right;\n",
       "    }\n",
       "</style>\n",
       "<table border=\"1\" class=\"dataframe\">\n",
       "  <thead>\n",
       "    <tr style=\"text-align: right;\">\n",
       "      <th></th>\n",
       "      <th>show_id</th>\n",
       "      <th>type</th>\n",
       "      <th>title</th>\n",
       "      <th>director</th>\n",
       "      <th>listed_in</th>\n",
       "      <th>country</th>\n",
       "      <th>date_added</th>\n",
       "      <th>release_year</th>\n",
       "      <th>rating</th>\n",
       "      <th>duration</th>\n",
       "      <th>description</th>\n",
       "      <th>cast</th>\n",
       "    </tr>\n",
       "  </thead>\n",
       "  <tbody>\n",
       "    <tr>\n",
       "      <th>146362</th>\n",
       "      <td>s769</td>\n",
       "      <td>Movie</td>\n",
       "      <td>Dancing Queens</td>\n",
       "      <td>Helena Bergström</td>\n",
       "      <td>International Movies</td>\n",
       "      <td>Sweden</td>\n",
       "      <td>June 3, 2021</td>\n",
       "      <td>2021</td>\n",
       "      <td>TV-MA</td>\n",
       "      <td>111 min</td>\n",
       "      <td>A dancer who gets a job cleaning at a struggli...</td>\n",
       "      <td>Christopher Wollter</td>\n",
       "    </tr>\n",
       "    <tr>\n",
       "      <th>31600</th>\n",
       "      <td>s271</td>\n",
       "      <td>Movie</td>\n",
       "      <td>Beckett</td>\n",
       "      <td>Ferdinando Cito Filomarino</td>\n",
       "      <td>Action &amp; Adventure</td>\n",
       "      <td>Italy</td>\n",
       "      <td>August 13, 2021</td>\n",
       "      <td>2021</td>\n",
       "      <td>TV-MA</td>\n",
       "      <td>110 min</td>\n",
       "      <td>An American tourist goes on the run in Greece ...</td>\n",
       "      <td>Lena Kitsopoulou</td>\n",
       "    </tr>\n",
       "    <tr>\n",
       "      <th>31621</th>\n",
       "      <td>s308</td>\n",
       "      <td>Movie</td>\n",
       "      <td>Aftermath</td>\n",
       "      <td>Peter Winther</td>\n",
       "      <td>Horror Movies</td>\n",
       "      <td>United States</td>\n",
       "      <td>August 4, 2021</td>\n",
       "      <td>2021</td>\n",
       "      <td>TV-MA</td>\n",
       "      <td>115 min</td>\n",
       "      <td>Desperate to save their marriage, a young coup...</td>\n",
       "      <td>Diana Hopper</td>\n",
       "    </tr>\n",
       "    <tr>\n",
       "      <th>97203</th>\n",
       "      <td>s878</td>\n",
       "      <td>Movie</td>\n",
       "      <td>Cinema Bandi</td>\n",
       "      <td>Praveen Kandregula</td>\n",
       "      <td>Independent Movies</td>\n",
       "      <td>India</td>\n",
       "      <td>May 14, 2021</td>\n",
       "      <td>2021</td>\n",
       "      <td>TV-MA</td>\n",
       "      <td>99 min</td>\n",
       "      <td>A struggling rickshaw driver’s life takes a ro...</td>\n",
       "      <td>Munivenkatapa</td>\n",
       "    </tr>\n",
       "    <tr>\n",
       "      <th>97202</th>\n",
       "      <td>s874</td>\n",
       "      <td>Movie</td>\n",
       "      <td>Ahaan</td>\n",
       "      <td>Nikhil Pherwani</td>\n",
       "      <td>Independent Movies</td>\n",
       "      <td>India</td>\n",
       "      <td>May 15, 2021</td>\n",
       "      <td>2021</td>\n",
       "      <td>TV-MA</td>\n",
       "      <td>81 min</td>\n",
       "      <td>Jilted by his wife, a man with OCD finds eye-o...</td>\n",
       "      <td>Plabita Borthakur</td>\n",
       "    </tr>\n",
       "  </tbody>\n",
       "</table>\n",
       "</div>"
      ],
      "text/plain": [
       "       show_id   type           title                    director  \\\n",
       "146362    s769  Movie  Dancing Queens            Helena Bergström   \n",
       "31600     s271  Movie         Beckett  Ferdinando Cito Filomarino   \n",
       "31621     s308  Movie       Aftermath               Peter Winther   \n",
       "97203     s878  Movie    Cinema Bandi          Praveen Kandregula   \n",
       "97202     s874  Movie           Ahaan             Nikhil Pherwani   \n",
       "\n",
       "                    listed_in        country       date_added  release_year  \\\n",
       "146362   International Movies         Sweden     June 3, 2021          2021   \n",
       "31600      Action & Adventure          Italy  August 13, 2021          2021   \n",
       "31621           Horror Movies  United States   August 4, 2021          2021   \n",
       "97203      Independent Movies          India     May 14, 2021          2021   \n",
       "97202      Independent Movies          India     May 15, 2021          2021   \n",
       "\n",
       "       rating duration                                        description  \\\n",
       "146362  TV-MA  111 min  A dancer who gets a job cleaning at a struggli...   \n",
       "31600   TV-MA  110 min  An American tourist goes on the run in Greece ...   \n",
       "31621   TV-MA  115 min  Desperate to save their marriage, a young coup...   \n",
       "97203   TV-MA   99 min  A struggling rickshaw driver’s life takes a ro...   \n",
       "97202   TV-MA   81 min  Jilted by his wife, a man with OCD finds eye-o...   \n",
       "\n",
       "                        cast  \n",
       "146362   Christopher Wollter  \n",
       "31600       Lena Kitsopoulou  \n",
       "31621           Diana Hopper  \n",
       "97203          Munivenkatapa  \n",
       "97202      Plabita Borthakur  "
      ]
     },
     "execution_count": 137,
     "metadata": {},
     "output_type": "execute_result"
    }
   ],
   "source": [
    "movie_data=df1.loc[(df1[\"type\"])==\"Movie\"]\n",
    "sorted_movie_data=movie_data.sort_values([\"release_year\"],ascending=False)\n",
    "sorted_movie_data.head()"
   ]
  },
  {
   "cell_type": "markdown",
   "id": "7e3ffd1f",
   "metadata": {},
   "source": [
    "Q6: _Show the top 5 TV Shows released based on their year of release_"
   ]
  },
  {
   "cell_type": "code",
   "execution_count": 138,
   "id": "3ddb474c",
   "metadata": {},
   "outputs": [
    {
     "data": {
      "text/html": [
       "<div>\n",
       "<style scoped>\n",
       "    .dataframe tbody tr th:only-of-type {\n",
       "        vertical-align: middle;\n",
       "    }\n",
       "\n",
       "    .dataframe tbody tr th {\n",
       "        vertical-align: top;\n",
       "    }\n",
       "\n",
       "    .dataframe thead th {\n",
       "        text-align: right;\n",
       "    }\n",
       "</style>\n",
       "<table border=\"1\" class=\"dataframe\">\n",
       "  <thead>\n",
       "    <tr style=\"text-align: right;\">\n",
       "      <th></th>\n",
       "      <th>show_id</th>\n",
       "      <th>type</th>\n",
       "      <th>title</th>\n",
       "      <th>director</th>\n",
       "      <th>listed_in</th>\n",
       "      <th>country</th>\n",
       "      <th>date_added</th>\n",
       "      <th>release_year</th>\n",
       "      <th>rating</th>\n",
       "      <th>duration</th>\n",
       "      <th>description</th>\n",
       "      <th>cast</th>\n",
       "    </tr>\n",
       "  </thead>\n",
       "  <tbody>\n",
       "    <tr>\n",
       "      <th>1</th>\n",
       "      <td>s9</td>\n",
       "      <td>TV Show</td>\n",
       "      <td>The Great British Baking Show</td>\n",
       "      <td>Andy Devonshire</td>\n",
       "      <td>British TV Shows</td>\n",
       "      <td>United Kingdom</td>\n",
       "      <td>September 24, 2021</td>\n",
       "      <td>2021</td>\n",
       "      <td>TV-14</td>\n",
       "      <td>9 Seasons</td>\n",
       "      <td>A talented batch of amateur bakers face off in...</td>\n",
       "      <td>Mel Giedroyc</td>\n",
       "    </tr>\n",
       "    <tr>\n",
       "      <th>125664</th>\n",
       "      <td>s1294</td>\n",
       "      <td>TV Show</td>\n",
       "      <td>Pitta Kathalu</td>\n",
       "      <td>Nag Ashwin</td>\n",
       "      <td>TV Dramas</td>\n",
       "      <td>India</td>\n",
       "      <td>February 19, 2021</td>\n",
       "      <td>2021</td>\n",
       "      <td>TV-MA</td>\n",
       "      <td>1 Season</td>\n",
       "      <td>From secrets and lies to jealousy and control,...</td>\n",
       "      <td>Uko</td>\n",
       "    </tr>\n",
       "    <tr>\n",
       "      <th>121964</th>\n",
       "      <td>s199</td>\n",
       "      <td>TV Show</td>\n",
       "      <td>King of Boys: The Return of the King</td>\n",
       "      <td>Kemi Adetiba</td>\n",
       "      <td>International TV Shows</td>\n",
       "      <td>Nigeria</td>\n",
       "      <td>August 27, 2021</td>\n",
       "      <td>2021</td>\n",
       "      <td>TV-MA</td>\n",
       "      <td>1 Season</td>\n",
       "      <td>Alhaja Eniola Salami starts anew and sets her ...</td>\n",
       "      <td>Keppy Ekpenyong Bassey</td>\n",
       "    </tr>\n",
       "    <tr>\n",
       "      <th>121933</th>\n",
       "      <td>s110</td>\n",
       "      <td>TV Show</td>\n",
       "      <td>La casa de papel</td>\n",
       "      <td>Mateo Gil</td>\n",
       "      <td>International TV Shows</td>\n",
       "      <td>Spain</td>\n",
       "      <td>September 3, 2021</td>\n",
       "      <td>2021</td>\n",
       "      <td>TV-MA</td>\n",
       "      <td>5 Seasons</td>\n",
       "      <td>Eight thieves take hostages and lock themselve...</td>\n",
       "      <td>Jaime Lorente</td>\n",
       "    </tr>\n",
       "    <tr>\n",
       "      <th>121931</th>\n",
       "      <td>s99</td>\n",
       "      <td>TV Show</td>\n",
       "      <td>Octonauts: Above &amp; Beyond</td>\n",
       "      <td>Jani Lachauer</td>\n",
       "      <td>Kids' TV</td>\n",
       "      <td>United Kingdom</td>\n",
       "      <td>September 7, 2021</td>\n",
       "      <td>2021</td>\n",
       "      <td>TV-Y</td>\n",
       "      <td>1 Season</td>\n",
       "      <td>The Octonauts expand their exploration beyond ...</td>\n",
       "      <td>Helen Walsh</td>\n",
       "    </tr>\n",
       "  </tbody>\n",
       "</table>\n",
       "</div>"
      ],
      "text/plain": [
       "       show_id     type                                 title  \\\n",
       "1           s9  TV Show         The Great British Baking Show   \n",
       "125664   s1294  TV Show                         Pitta Kathalu   \n",
       "121964    s199  TV Show  King of Boys: The Return of the King   \n",
       "121933    s110  TV Show                      La casa de papel   \n",
       "121931     s99  TV Show             Octonauts: Above & Beyond   \n",
       "\n",
       "               director                listed_in         country  \\\n",
       "1       Andy Devonshire         British TV Shows  United Kingdom   \n",
       "125664       Nag Ashwin                TV Dramas           India   \n",
       "121964     Kemi Adetiba   International TV Shows         Nigeria   \n",
       "121933        Mateo Gil   International TV Shows           Spain   \n",
       "121931    Jani Lachauer                 Kids' TV  United Kingdom   \n",
       "\n",
       "                date_added  release_year rating   duration  \\\n",
       "1       September 24, 2021          2021  TV-14  9 Seasons   \n",
       "125664   February 19, 2021          2021  TV-MA   1 Season   \n",
       "121964     August 27, 2021          2021  TV-MA   1 Season   \n",
       "121933   September 3, 2021          2021  TV-MA  5 Seasons   \n",
       "121931   September 7, 2021          2021   TV-Y   1 Season   \n",
       "\n",
       "                                              description  \\\n",
       "1       A talented batch of amateur bakers face off in...   \n",
       "125664  From secrets and lies to jealousy and control,...   \n",
       "121964  Alhaja Eniola Salami starts anew and sets her ...   \n",
       "121933  Eight thieves take hostages and lock themselve...   \n",
       "121931  The Octonauts expand their exploration beyond ...   \n",
       "\n",
       "                           cast  \n",
       "1                  Mel Giedroyc  \n",
       "125664                      Uko  \n",
       "121964   Keppy Ekpenyong Bassey  \n",
       "121933            Jaime Lorente  \n",
       "121931              Helen Walsh  "
      ]
     },
     "execution_count": 138,
     "metadata": {},
     "output_type": "execute_result"
    }
   ],
   "source": [
    "tv_show_data=df1.loc[(df1[\"type\"])==\"TV Show\"]\n",
    "sorted_tv_show_data=tv_show_data.sort_values([\"release_year\"],ascending=False)\n",
    "sorted_tv_show_data.head()"
   ]
  },
  {
   "cell_type": "markdown",
   "id": "215e7112",
   "metadata": {},
   "source": [
    "## MOVIES AND TV SHOWS IN INDIA"
   ]
  },
  {
   "cell_type": "markdown",
   "id": "e43de826",
   "metadata": {},
   "source": [
    "Q7: _Show only the titles of all the TV Shows that were released in India_."
   ]
  },
  {
   "cell_type": "code",
   "execution_count": 139,
   "id": "61211fc5",
   "metadata": {},
   "outputs": [
    {
     "data": {
      "text/plain": [
       "147                                 Navarasa\n",
       "677                            Bombay Begums\n",
       "717                            Pitta Kathalu\n",
       "810       Mighty Little Bheem: Kite Festival\n",
       "870                          Paava Kadhaigal\n",
       "                         ...                \n",
       "150135                           Delhi Crime\n",
       "152534                                   She\n",
       "152789                           Delhi Crime\n",
       "155005                           Delhi Crime\n",
       "156648                           Delhi Crime\n",
       "Name: title, Length: 940, dtype: object"
      ]
     },
     "execution_count": 139,
     "metadata": {},
     "output_type": "execute_result"
    }
   ],
   "source": [
    "df1[(df1[\"type\"]==\"TV Show\") & (df1[\"country\"]==\"India\")][\"title\"]"
   ]
  },
  {
   "cell_type": "markdown",
   "id": "379912e0",
   "metadata": {},
   "source": [
    "Q8: _Show only the titles of all the Movies that were released in India_."
   ]
  },
  {
   "cell_type": "code",
   "execution_count": 140,
   "id": "ccd324ef",
   "metadata": {},
   "outputs": [
    {
     "data": {
      "text/plain": [
       "5                          Jeans\n",
       "40              Angamaly Diaries\n",
       "44                        Anjaam\n",
       "46                        Dhanak\n",
       "47                       Gurgaon\n",
       "                   ...          \n",
       "159243      Haseena Maan Jaayegi\n",
       "159246                    Pardes\n",
       "159252    Y.M.I.: Yeh Mera India\n",
       "159297      Haseena Maan Jaayegi\n",
       "159300                    Pardes\n",
       "Name: title, Length: 21150, dtype: object"
      ]
     },
     "execution_count": 140,
     "metadata": {},
     "output_type": "execute_result"
    }
   ],
   "source": [
    "df1[(df1[\"type\"]==\"Movie\") & (df1[\"country\"]==\"India\")][\"title\"]"
   ]
  },
  {
   "cell_type": "markdown",
   "id": "ccf8d629",
   "metadata": {},
   "source": [
    "Q8: _Show the list of Indian movie directors_"
   ]
  },
  {
   "cell_type": "code",
   "execution_count": 97,
   "id": "2c6e983e",
   "metadata": {},
   "outputs": [],
   "source": [
    "movie_directors=df1[(df1[\"type\"]==\"Movie\") & (df1[\"country\"]==\"India\")][\"director\"]"
   ]
  },
  {
   "cell_type": "code",
   "execution_count": 93,
   "id": "50cc5555",
   "metadata": {},
   "outputs": [
    {
     "data": {
      "text/plain": [
       "5                  S. Shankar\n",
       "40       Lijo Jose Pellissery\n",
       "44               Rahul Rawail\n",
       "46            Nagesh Kukunoor\n",
       "47              Shanker Raman\n",
       "                 ...         \n",
       "69556            David Dhawan\n",
       "69566            Subhash Ghai\n",
       "69582              N. Chandra\n",
       "69730            David Dhawan\n",
       "69739            Subhash Ghai\n",
       "Name: director, Length: 7728, dtype: object"
      ]
     },
     "execution_count": 93,
     "metadata": {},
     "output_type": "execute_result"
    }
   ],
   "source": [
    "movie_directors"
   ]
  },
  {
   "cell_type": "markdown",
   "id": "e60a2062",
   "metadata": {},
   "source": [
    "Q9: _Find the number of movies produced in each country and pick the top 10 countries_."
   ]
  },
  {
   "cell_type": "code",
   "execution_count": 141,
   "id": "59a34803",
   "metadata": {},
   "outputs": [
    {
     "data": {
      "text/plain": [
       "country\n",
       "United States     2143\n",
       "India              939\n",
       " United States     346\n",
       "United Kingdom     331\n",
       "Canada             166\n",
       "                  ... \n",
       "Mozambique           1\n",
       "Namibia              1\n",
       " Liechtenstein       1\n",
       " Latvia              1\n",
       "Zimbabwe             1\n",
       "Name: title, Length: 175, dtype: int64"
      ]
     },
     "execution_count": 141,
     "metadata": {},
     "output_type": "execute_result"
    }
   ],
   "source": [
    "top_movies_country=df1[df1[\"type\"]==\"Movie\"].groupby(\"country\")[\"title\"].nunique().sort_values(ascending=False)\n",
    "top_movies_country"
   ]
  },
  {
   "cell_type": "markdown",
   "id": "418df048",
   "metadata": {},
   "source": [
    "Q10: _Find the number of Tv-Shows produced in each country and pick the top 10 countries_."
   ]
  },
  {
   "cell_type": "code",
   "execution_count": 142,
   "id": "3432d9bf",
   "metadata": {},
   "outputs": [
    {
     "data": {
      "text/plain": [
       "country\n",
       "United States      325\n",
       "United Kingdom     109\n",
       "South Korea        107\n",
       "Japan               95\n",
       "Taiwan              40\n",
       "Spain               27\n",
       "India               24\n",
       "Mexico              19\n",
       "Turkey              16\n",
       "France              15\n",
       " Canada             12\n",
       " United States      10\n",
       "Thailand             9\n",
       "Nigeria              7\n",
       "Canada               6\n",
       "Brazil               6\n",
       "Colombia             5\n",
       "Italy                5\n",
       "Belgium              4\n",
       "Poland               4\n",
       "Denmark              4\n",
       "Pakistan             3\n",
       "Australia            2\n",
       " Germany             2\n",
       " Ireland             2\n",
       "Philippines          2\n",
       " Spain               2\n",
       "China                2\n",
       " France              2\n",
       "Argentina            2\n",
       " South Africa        1\n",
       " Japan               1\n",
       " Italy               1\n",
       " Malaysia            1\n",
       " Mexico              1\n",
       " United Kingdom      1\n",
       "Russia               1\n",
       "Saudi Arabia         1\n",
       " Israel              1\n",
       " Indonesia           1\n",
       " South Korea         1\n",
       " Greece              1\n",
       " Singapore           1\n",
       "Name: title, dtype: int64"
      ]
     },
     "execution_count": 142,
     "metadata": {},
     "output_type": "execute_result"
    }
   ],
   "source": [
    "top_TVShows_country=df1[df1[\"type\"]==\"TV Show\"].groupby(\"country\")[\"title\"].nunique().sort_values(ascending=False)\n",
    "top_TVShows_country"
   ]
  },
  {
   "cell_type": "markdown",
   "id": "94cfee8c",
   "metadata": {},
   "source": [
    "## Analysis of actors/directors of different movies and TV Shows"
   ]
  },
  {
   "cell_type": "markdown",
   "id": "d3e4066f",
   "metadata": {},
   "source": [
    "Q11: _The top 10 highest counts of “Movies” by each director_."
   ]
  },
  {
   "cell_type": "code",
   "execution_count": 223,
   "id": "cde82f15",
   "metadata": {},
   "outputs": [
    {
     "data": {
      "text/plain": [
       "Raúl Campos            20\n",
       "Marcus Raboy           20\n",
       " Jan Suter             20\n",
       "Rajiv Chilaka          16\n",
       "Jay Karas              15\n",
       "Cathy Garcia-Molina    13\n",
       "Youssef Chahine        12\n",
       "Martin Scorsese        12\n",
       "Jay Chapman            12\n",
       "Steven Spielberg       11\n",
       "Name: director, dtype: int64"
      ]
     },
     "execution_count": 223,
     "metadata": {},
     "output_type": "execute_result"
    }
   ],
   "source": [
    "top_dir_movies=df1[df1[\"type\"]==\"Movie\"]\n",
    "top_dir_movies=top_dir_movies.drop_duplicates([\"title\",\"director\"])\n",
    "top_dir_movies[\"director\"].value_counts().head(10)"
   ]
  },
  {
   "cell_type": "code",
   "execution_count": null,
   "id": "bf8b93fe",
   "metadata": {},
   "outputs": [],
   "source": [
    "Q12: _The top 10 highest counts of “TV Shows” by each director_."
   ]
  },
  {
   "cell_type": "code",
   "execution_count": 224,
   "id": "b31b920d",
   "metadata": {},
   "outputs": [
    {
     "data": {
      "text/plain": [
       "Hayato Date          70\n",
       "Ryan Polito          61\n",
       "Shin Won-ho          60\n",
       "Michael Simon        52\n",
       "Kenny Ortega         42\n",
       "Hsu Fu-chun          31\n",
       "Daniel Minahan       27\n",
       "Jay Chandrasekhar    26\n",
       "Ken Burns            25\n",
       "Chang-Min Lee        20\n",
       "Name: director, dtype: int64"
      ]
     },
     "execution_count": 224,
     "metadata": {},
     "output_type": "execute_result"
    }
   ],
   "source": [
    "top_dir_TVShows=df1[df1[\"type\"]==\"TV Show\"]\n",
    "top_dir_TVShows=top_dir_TVShows.drop_duplicates([\"title\",\"director\"])\n",
    "top_dir_TVShows[\"director\"].value_counts().head(10)"
   ]
  },
  {
   "cell_type": "markdown",
   "id": "0bf7c33b",
   "metadata": {},
   "source": [
    "## <b> BUSINESS INSIGHTS </b>\n",
    " \n",
    " - We got the top directors who has directed maximum number of movies and TV shows.\n",
    "## <b> RECOMMENDATIONS  </b>\n",
    " - We should add more movies and TV Shows of the above shows directors and they have received the maximum viewership"
   ]
  },
  {
   "cell_type": "markdown",
   "id": "7b155f6b",
   "metadata": {},
   "source": [
    " _The top 10 actors who has acted in highest number of movies and TV Shows_."
   ]
  },
  {
   "cell_type": "code",
   "execution_count": 235,
   "id": "0e9ab13d",
   "metadata": {},
   "outputs": [],
   "source": [
    "movies=df1[df1[\"type\"]==\"Movie\"]\n",
    "TV=df1[df1[\"type\"]==\"TV Show\"]\n",
    "\n",
    "movies=movies.drop_duplicates([\"title\",\"cast\"])\n",
    "TV=TV.drop_duplicates([\"title\",\"cast\"])"
   ]
  },
  {
   "cell_type": "code",
   "execution_count": 231,
   "id": "c84b67aa",
   "metadata": {},
   "outputs": [
    {
     "data": {
      "text/plain": [
       " Anupam Kher      38\n",
       " Om Puri          27\n",
       " Paresh Rawal     25\n",
       " Boman Irani      25\n",
       "Shah Rukh Khan    25\n",
       "Name: cast, dtype: int64"
      ]
     },
     "execution_count": 231,
     "metadata": {},
     "output_type": "execute_result"
    }
   ],
   "source": [
    "movies[\"cast\"].value_counts().head(5)"
   ]
  },
  {
   "cell_type": "code",
   "execution_count": 236,
   "id": "efff92f3",
   "metadata": {},
   "outputs": [
    {
     "data": {
      "text/plain": [
       " Takahiro Sakurai     15\n",
       " Ai Kayano            11\n",
       " Junichi Suwabe       11\n",
       " Katsuyuki Konishi     9\n",
       " Yuki Kaji             9\n",
       " Yoshimasa Hosoya      9\n",
       " Takehito Koyasu       9\n",
       " Daisuke Ono           8\n",
       " Kana Hanazawa         8\n",
       " Kohsuke Toriumi       8\n",
       "Name: cast, dtype: int64"
      ]
     },
     "execution_count": 236,
     "metadata": {},
     "output_type": "execute_result"
    }
   ],
   "source": [
    "TV[\"cast\"].value_counts().head(10)"
   ]
  },
  {
   "cell_type": "markdown",
   "id": "87708bfa",
   "metadata": {},
   "source": [
    "## <b> BUSINESS INSIGHTS </b>\n",
    " \n",
    " - We got the top actors who has acted in more number of movies and TV shows.\n",
    "## <b> RECOMMENDATIONS  </b>\n",
    " - We should add more movies and TV Shows of the above actors since they have received the maximum viewership"
   ]
  },
  {
   "cell_type": "markdown",
   "id": "953f0090",
   "metadata": {},
   "source": [
    "Q13: _Which genre of movies are popular in India,USA, and UK_."
   ]
  },
  {
   "cell_type": "code",
   "execution_count": 165,
   "id": "91705288",
   "metadata": {},
   "outputs": [],
   "source": [
    "ind=df1[df1[\"country\"]==\"India\"]\n",
    "genre_ind=ind[\"listed_in\"].value_counts().head(5)\n",
    "genre_ind=genre_ind.reset_index()\n",
    "genre_ind.rename(columns={\"index\":\"Genre\", \"listed_in\": \"Number of contents\"},inplace=True)"
   ]
  },
  {
   "cell_type": "code",
   "execution_count": 164,
   "id": "c26cd069",
   "metadata": {},
   "outputs": [
    {
     "data": {
      "image/png": "[encoded data removed]",
      "text/plain": [
       "<Figure size 640x480 with 1 Axes>"
      ]
     },
     "metadata": {},
     "output_type": "display_data"
    }
   ],
   "source": [
    "sns.barplot(data=genre_ind, x=\"Genre\",y=\"Number of contents\") #Boxplot\n",
    "plt.xticks(rotation=90)\n",
    "plt.title(\"Top 5 Genre in India\",color= \"BLUE\",fontsize=20)\n",
    "plt.show()"
   ]
  },
  {
   "cell_type": "markdown",
   "id": "ee705e41",
   "metadata": {},
   "source": [
    "## <b> OBSERVATION </b>\n",
    " - International Movies and Dramas are the most popular genre in India\n"
   ]
  },
  {
   "cell_type": "code",
   "execution_count": 169,
   "id": "595a1b3e",
   "metadata": {},
   "outputs": [],
   "source": [
    "us=df1[df1[\"country\"]==\"United States\"]\n",
    "genre_us=us[\"listed_in\"].value_counts().head(5)\n",
    "genre_us=genre_us.reset_index()\n",
    "genre_us.rename(columns={\"index\":\"Genre\", \"listed_in\": \"Number of contents\"},inplace=True)"
   ]
  },
  {
   "cell_type": "code",
   "execution_count": 170,
   "id": "9c67aef4",
   "metadata": {},
   "outputs": [
    {
     "data": {
      "image/png": "[encoded data removed]",
      "text/plain": [
       "<Figure size 640x480 with 1 Axes>"
      ]
     },
     "metadata": {},
     "output_type": "display_data"
    }
   ],
   "source": [
    "sns.barplot(data=genre_us, x=\"Genre\",y=\"Number of contents\") #Boxplot\n",
    "plt.xticks(rotation=90)\n",
    "plt.title(\"Top 5 Genre in US\",color= \"BLUE\",fontsize=20)\n",
    "plt.show()"
   ]
  },
  {
   "cell_type": "markdown",
   "id": "640909b0",
   "metadata": {},
   "source": [
    "## <b> OBSERVATION </b>\n",
    " - Comedies and Dramas Shows are the most popular genre in the US\n"
   ]
  },
  {
   "cell_type": "code",
   "execution_count": 171,
   "id": "d7585bcf",
   "metadata": {},
   "outputs": [],
   "source": [
    "uk=df1[df1[\"country\"]==\"United Kingdom\"]\n",
    "genre_uk=uk[\"listed_in\"].value_counts().head(5)\n",
    "genre_uk=genre_uk.reset_index()\n",
    "genre_uk.rename(columns={\"index\":\"Genre\", \"listed_in\": \"Number of contents\"},inplace=True)"
   ]
  },
  {
   "cell_type": "code",
   "execution_count": 172,
   "id": "98bd0de7",
   "metadata": {},
   "outputs": [
    {
     "data": {
      "image/png": "[encoded data removed]",
      "text/plain": [
       "<Figure size 640x480 with 1 Axes>"
      ]
     },
     "metadata": {},
     "output_type": "display_data"
    }
   ],
   "source": [
    "sns.barplot(data=genre_uk, x=\"Genre\",y=\"Number of contents\") #Boxplot\n",
    "plt.xticks(rotation=90)\n",
    "plt.title(\"Top 5 Genre in UK\",color= \"BLUE\",fontsize=20)\n",
    "plt.show()"
   ]
  },
  {
   "cell_type": "markdown",
   "id": "b6c68a00",
   "metadata": {},
   "source": [
    "## <b> OBSERVATION </b>\n",
    " - Dramas and British TV Shows are the most popular genre in the UK\n"
   ]
  },
  {
   "cell_type": "markdown",
   "id": "2915885f",
   "metadata": {},
   "source": [
    "## <b> BUSINESS INSIGHTS </b>\n",
    " \n",
    " - In India we can see that International movies & Dramas are the most popular genres.\n",
    " - In the United States Comedies & Dramas are most popular genre while, independent movies genre is the least popular.\n",
    " - In the United Kingdom audience is more into Dramas.\n",
    "\n",
    "## <b> RECOMMENDATIONS  </b>\n",
    " - We should add more contents related to genre like International movies & Dramas in India as Indians are watching more of it.\n",
    " - For United States, we should add more comedies & Dramas genre content as compare to other genre.\n",
    " - In United Kingdom, similar as US, we should add more content related to genre like Dramas.\n"
   ]
  },
  {
   "cell_type": "markdown",
   "id": "3a36745d",
   "metadata": {},
   "source": [
    "Q14: _How has the number of movies released per year changed over last 20-30 years?_."
   ]
  },
  {
   "cell_type": "code",
   "execution_count": 183,
   "id": "9fbb29e0",
   "metadata": {},
   "outputs": [],
   "source": [
    "last30=df2[(df2[\"release_year\"]>1990) & (df2[\"type\"]==\"Movie\")]"
   ]
  },
  {
   "cell_type": "code",
   "execution_count": 185,
   "id": "2a6fe563",
   "metadata": {},
   "outputs": [
    {
     "data": {
      "image/png": "[encoded data removed]",
      "text/plain": [
       "<Figure size 640x480 with 1 Axes>"
      ]
     },
     "metadata": {},
     "output_type": "display_data"
    }
   ],
   "source": [
    "sns.kdeplot(data = last30, x = \"release_year\", color=\"red\")\n",
    "plt.title(\"Movies released over last 30 years (1990- 2021])\",color=\"green\",fontsize=15)\n",
    "plt.grid()\n",
    "plt.show()"
   ]
  },
  {
   "cell_type": "markdown",
   "id": "8c4c254f",
   "metadata": {},
   "source": [
    "## <b> OBSERVATION </b>\n",
    " - After analyzing the graph of last 30 years, we can say that from 2011 to 2018 number of movies released in a huge number. While, we\n",
    "can also notice that there is a sudden decrement in release after 2018-19 and that could be due to the Covid-19 disease.\n",
    "\n",
    "\n"
   ]
  },
  {
   "cell_type": "markdown",
   "id": "1ebd87f2",
   "metadata": {},
   "source": [
    "Q14: _What is the best time to launch TV Shows?_."
   ]
  },
  {
   "cell_type": "code",
   "execution_count": 214,
   "id": "39df221b",
   "metadata": {},
   "outputs": [],
   "source": [
    "df2 = df1\n",
    "df2['month'] = pd.to_datetime(df2['date_added']).dt.month_name()\n"
   ]
  },
  {
   "cell_type": "code",
   "execution_count": 215,
   "id": "fa2e3777",
   "metadata": {},
   "outputs": [
    {
     "data": {
      "text/html": [
       "<div>\n",
       "<style scoped>\n",
       "    .dataframe tbody tr th:only-of-type {\n",
       "        vertical-align: middle;\n",
       "    }\n",
       "\n",
       "    .dataframe tbody tr th {\n",
       "        vertical-align: top;\n",
       "    }\n",
       "\n",
       "    .dataframe thead th {\n",
       "        text-align: right;\n",
       "    }\n",
       "</style>\n",
       "<table border=\"1\" class=\"dataframe\">\n",
       "  <thead>\n",
       "    <tr style=\"text-align: right;\">\n",
       "      <th></th>\n",
       "      <th>show_id</th>\n",
       "      <th>type</th>\n",
       "      <th>title</th>\n",
       "      <th>director</th>\n",
       "      <th>listed_in</th>\n",
       "      <th>country</th>\n",
       "      <th>date_added</th>\n",
       "      <th>release_year</th>\n",
       "      <th>rating</th>\n",
       "      <th>duration</th>\n",
       "      <th>description</th>\n",
       "      <th>cast</th>\n",
       "      <th>month</th>\n",
       "    </tr>\n",
       "  </thead>\n",
       "  <tbody>\n",
       "    <tr>\n",
       "      <th>0</th>\n",
       "      <td>s8</td>\n",
       "      <td>Movie</td>\n",
       "      <td>Sankofa</td>\n",
       "      <td>Haile Gerima</td>\n",
       "      <td>Dramas</td>\n",
       "      <td>United States</td>\n",
       "      <td>September 24, 2021</td>\n",
       "      <td>1993</td>\n",
       "      <td>TV-MA</td>\n",
       "      <td>125 min</td>\n",
       "      <td>On a photo shoot in Ghana, an American model s...</td>\n",
       "      <td>Kofi Ghanaba</td>\n",
       "      <td>September</td>\n",
       "    </tr>\n",
       "    <tr>\n",
       "      <th>1</th>\n",
       "      <td>s9</td>\n",
       "      <td>TV Show</td>\n",
       "      <td>The Great British Baking Show</td>\n",
       "      <td>Andy Devonshire</td>\n",
       "      <td>British TV Shows</td>\n",
       "      <td>United Kingdom</td>\n",
       "      <td>September 24, 2021</td>\n",
       "      <td>2021</td>\n",
       "      <td>TV-14</td>\n",
       "      <td>9 Seasons</td>\n",
       "      <td>A talented batch of amateur bakers face off in...</td>\n",
       "      <td>Mel Giedroyc</td>\n",
       "      <td>September</td>\n",
       "    </tr>\n",
       "    <tr>\n",
       "      <th>2</th>\n",
       "      <td>s10</td>\n",
       "      <td>Movie</td>\n",
       "      <td>The Starling</td>\n",
       "      <td>Theodore Melfi</td>\n",
       "      <td>Comedies</td>\n",
       "      <td>United States</td>\n",
       "      <td>September 24, 2021</td>\n",
       "      <td>2021</td>\n",
       "      <td>PG-13</td>\n",
       "      <td>104 min</td>\n",
       "      <td>A woman adjusting to life after a loss contend...</td>\n",
       "      <td>Melissa McCarthy</td>\n",
       "      <td>September</td>\n",
       "    </tr>\n",
       "    <tr>\n",
       "      <th>3</th>\n",
       "      <td>s13</td>\n",
       "      <td>Movie</td>\n",
       "      <td>Je Suis Karl</td>\n",
       "      <td>Christian Schwochow</td>\n",
       "      <td>Dramas</td>\n",
       "      <td>Germany</td>\n",
       "      <td>September 23, 2021</td>\n",
       "      <td>2021</td>\n",
       "      <td>TV-MA</td>\n",
       "      <td>127 min</td>\n",
       "      <td>After most of her family is murdered in a terr...</td>\n",
       "      <td>Luna Wedler</td>\n",
       "      <td>September</td>\n",
       "    </tr>\n",
       "    <tr>\n",
       "      <th>4</th>\n",
       "      <td>s16</td>\n",
       "      <td>TV Show</td>\n",
       "      <td>Dear White People</td>\n",
       "      <td>Jay Chandrasekhar</td>\n",
       "      <td>TV Comedies</td>\n",
       "      <td>United States</td>\n",
       "      <td>September 22, 2021</td>\n",
       "      <td>2021</td>\n",
       "      <td>TV-MA</td>\n",
       "      <td>4 Seasons</td>\n",
       "      <td>Students of color navigate the daily slights a...</td>\n",
       "      <td>Logan Browning</td>\n",
       "      <td>September</td>\n",
       "    </tr>\n",
       "  </tbody>\n",
       "</table>\n",
       "</div>"
      ],
      "text/plain": [
       "  show_id     type                          title             director  \\\n",
       "0      s8    Movie                        Sankofa         Haile Gerima   \n",
       "1      s9  TV Show  The Great British Baking Show      Andy Devonshire   \n",
       "2     s10    Movie                   The Starling       Theodore Melfi   \n",
       "3     s13    Movie                   Je Suis Karl  Christian Schwochow   \n",
       "4     s16  TV Show              Dear White People    Jay Chandrasekhar   \n",
       "\n",
       "          listed_in         country          date_added  release_year rating  \\\n",
       "0            Dramas   United States  September 24, 2021          1993  TV-MA   \n",
       "1  British TV Shows  United Kingdom  September 24, 2021          2021  TV-14   \n",
       "2          Comedies   United States  September 24, 2021          2021  PG-13   \n",
       "3            Dramas         Germany  September 23, 2021          2021  TV-MA   \n",
       "4       TV Comedies   United States  September 22, 2021          2021  TV-MA   \n",
       "\n",
       "    duration                                        description  \\\n",
       "0    125 min  On a photo shoot in Ghana, an American model s...   \n",
       "1  9 Seasons  A talented batch of amateur bakers face off in...   \n",
       "2    104 min  A woman adjusting to life after a loss contend...   \n",
       "3    127 min  After most of her family is murdered in a terr...   \n",
       "4  4 Seasons  Students of color navigate the daily slights a...   \n",
       "\n",
       "               cast      month  \n",
       "0      Kofi Ghanaba  September  \n",
       "1      Mel Giedroyc  September  \n",
       "2  Melissa McCarthy  September  \n",
       "3       Luna Wedler  September  \n",
       "4    Logan Browning  September  "
      ]
     },
     "execution_count": 215,
     "metadata": {},
     "output_type": "execute_result"
    }
   ],
   "source": [
    "df2.head(5)"
   ]
  },
  {
   "cell_type": "code",
   "execution_count": 189,
   "id": "71444840",
   "metadata": {},
   "outputs": [],
   "source": [
    "tv_show_counts = df2[df2[\"type\"] == 'TV Show'].groupby([\"month\"])[\"title\"].count()"
   ]
  },
  {
   "cell_type": "code",
   "execution_count": 190,
   "id": "1f522627",
   "metadata": {},
   "outputs": [
    {
     "data": {
      "text/plain": [
       "month\n",
       "1     1691\n",
       "2     1815\n",
       "3     1581\n",
       "4     1328\n",
       "5     1614\n",
       "6     2343\n",
       "7     1486\n",
       "8     1933\n",
       "9     1392\n",
       "10    1576\n",
       "11    1477\n",
       "12    2491\n",
       "Name: title, dtype: int64"
      ]
     },
     "execution_count": 190,
     "metadata": {},
     "output_type": "execute_result"
    }
   ],
   "source": [
    "tv_show_counts"
   ]
  },
  {
   "cell_type": "code",
   "execution_count": 192,
   "id": "5c73281a",
   "metadata": {},
   "outputs": [
    {
     "data": {
      "text/plain": [
       "month\n",
       "1     13584\n",
       "2      8837\n",
       "3     11110\n",
       "4     11949\n",
       "5      8836\n",
       "6     10697\n",
       "7     13789\n",
       "8     11145\n",
       "9     12514\n",
       "10    13235\n",
       "11    10837\n",
       "12    12267\n",
       "Name: title, dtype: int64"
      ]
     },
     "execution_count": 192,
     "metadata": {},
     "output_type": "execute_result"
    }
   ],
   "source": [
    "Movie_counts = df2[df2[\"type\"] == 'Movie'].groupby([\"month\"])[\"title\"].count()\n",
    "Movie_counts"
   ]
  },
  {
   "cell_type": "code",
   "execution_count": 216,
   "id": "944bdf7c",
   "metadata": {},
   "outputs": [
    {
     "data": {
      "image/png": "[encoded data removed]",
      "text/plain": [
       "<Figure size 640x480 with 1 Axes>"
      ]
     },
     "metadata": {},
     "output_type": "display_data"
    }
   ],
   "source": [
    "data=df2['month']\n",
    "data=data.reset_index()\n",
    "\n",
    "sns.countplot(data=data,y=df2['month'],color=\"red\")\n",
    "plt.title(\"Movies and TV Shows added in various months\",fontsize=20)\n",
    "plt.xticks(rotation=45)\n",
    "plt.show()"
   ]
  },
  {
   "cell_type": "markdown",
   "id": "af3bdc1c",
   "metadata": {},
   "source": [
    "## <b> BUSINESS INSIGHTS </b>\n",
    "  -July and January are the best time to launch a TV show or movies, after that October,December can be considered as best time.\n",
    " \n",
    "\n",
    "## <b> RECOMMENDATIONS  </b>\n",
    " -We should release majorly of the content during July, December, October and January month."
   ]
  },
  {
   "cell_type": "markdown",
   "id": "f7b57247",
   "metadata": {},
   "source": [
    "## Rating of Movies and TV Shows in United States"
   ]
  },
  {
   "cell_type": "code",
   "execution_count": 239,
   "id": "839838fc",
   "metadata": {},
   "outputs": [],
   "source": [
    "movies_us=df1[(df1[\"type\"]==\"Movie\") & (df1[\"country\"]==\"United States\")]\n",
    "tv_us=df1[(df1[\"type\"]==\"TV Show\") & (df1[\"country\"]==\"United States\")]\n",
    "\n",
    "\n",
    "movies_us=movies_us.drop_duplicates([\"title\"])\n",
    "tv_us=tv_us.drop_duplicates([\"title\"])"
   ]
  },
  {
   "cell_type": "code",
   "execution_count": 240,
   "id": "51a34095",
   "metadata": {},
   "outputs": [
    {
     "data": {
      "text/plain": [
       "TV-MA    560\n",
       "R        529\n",
       "PG-13    354\n",
       "PG       207\n",
       "TV-14    177\n",
       "Name: rating, dtype: int64"
      ]
     },
     "execution_count": 240,
     "metadata": {},
     "output_type": "execute_result"
    }
   ],
   "source": [
    "movies_us[\"rating\"].value_counts().head(5)"
   ]
  },
  {
   "cell_type": "code",
   "execution_count": 241,
   "id": "166e7d19",
   "metadata": {},
   "outputs": [
    {
     "data": {
      "text/plain": [
       "TV-MA    136\n",
       "TV-14     87\n",
       "TV-PG     51\n",
       "TV-G      23\n",
       "TV-Y7     18\n",
       "Name: rating, dtype: int64"
      ]
     },
     "execution_count": 241,
     "metadata": {},
     "output_type": "execute_result"
    }
   ],
   "source": [
    "tv_us[\"rating\"].value_counts().head(5)"
   ]
  },
  {
   "cell_type": "markdown",
   "id": "502605b5",
   "metadata": {},
   "source": [
    "## <b> BUSINESS INSIGHTS </b>\n",
    " -We have extracted the top rating category who have the maximum number of movies in the US market.\n",
    " \n",
    "## <b> RECOMMENDATIONS  </b>\n",
    " -We should add more movies related to above mentioned rating category as it will going to add more viewership on our portal.\n"
   ]
  },
  {
   "cell_type": "markdown",
   "id": "8f04e1c5",
   "metadata": {},
   "source": [
    "### TOP 10 POPULAR TV SHOWS"
   ]
  },
  {
   "cell_type": "code",
   "execution_count": 244,
   "id": "6e75d495",
   "metadata": {},
   "outputs": [
    {
     "data": {
      "text/html": [
       "<div>\n",
       "<style scoped>\n",
       "    .dataframe tbody tr th:only-of-type {\n",
       "        vertical-align: middle;\n",
       "    }\n",
       "\n",
       "    .dataframe tbody tr th {\n",
       "        vertical-align: top;\n",
       "    }\n",
       "\n",
       "    .dataframe thead th {\n",
       "        text-align: right;\n",
       "    }\n",
       "</style>\n",
       "<table border=\"1\" class=\"dataframe\">\n",
       "  <thead>\n",
       "    <tr style=\"text-align: right;\">\n",
       "      <th></th>\n",
       "      <th>title</th>\n",
       "      <th>duration</th>\n",
       "    </tr>\n",
       "  </thead>\n",
       "  <tbody>\n",
       "    <tr>\n",
       "      <th>0</th>\n",
       "      <td>The Great British Baking Show</td>\n",
       "      <td>9 Seasons</td>\n",
       "    </tr>\n",
       "    <tr>\n",
       "      <th>1</th>\n",
       "      <td>Saved by the Bell</td>\n",
       "      <td>9 Seasons</td>\n",
       "    </tr>\n",
       "    <tr>\n",
       "      <th>2</th>\n",
       "      <td>Call the Midwife</td>\n",
       "      <td>9 Seasons</td>\n",
       "    </tr>\n",
       "    <tr>\n",
       "      <th>3</th>\n",
       "      <td>Naruto</td>\n",
       "      <td>9 Seasons</td>\n",
       "    </tr>\n",
       "    <tr>\n",
       "      <th>4</th>\n",
       "      <td>The Office (U.S.)</td>\n",
       "      <td>9 Seasons</td>\n",
       "    </tr>\n",
       "    <tr>\n",
       "      <th>5</th>\n",
       "      <td>American Horror Story</td>\n",
       "      <td>9 Seasons</td>\n",
       "    </tr>\n",
       "    <tr>\n",
       "      <th>6</th>\n",
       "      <td>Trolls: The Beat Goes On!</td>\n",
       "      <td>8 Seasons</td>\n",
       "    </tr>\n",
       "    <tr>\n",
       "      <th>7</th>\n",
       "      <td>Dexter</td>\n",
       "      <td>8 Seasons</td>\n",
       "    </tr>\n",
       "    <tr>\n",
       "      <th>8</th>\n",
       "      <td>Girlfriends</td>\n",
       "      <td>8 Seasons</td>\n",
       "    </tr>\n",
       "    <tr>\n",
       "      <th>9</th>\n",
       "      <td>Arrow</td>\n",
       "      <td>8 Seasons</td>\n",
       "    </tr>\n",
       "  </tbody>\n",
       "</table>\n",
       "</div>"
      ],
      "text/plain": [
       "                           title   duration\n",
       "0  The Great British Baking Show  9 Seasons\n",
       "1              Saved by the Bell  9 Seasons\n",
       "2               Call the Midwife  9 Seasons\n",
       "3                         Naruto  9 Seasons\n",
       "4              The Office (U.S.)  9 Seasons\n",
       "5          American Horror Story  9 Seasons\n",
       "6      Trolls: The Beat Goes On!  8 Seasons\n",
       "7                         Dexter  8 Seasons\n",
       "8                    Girlfriends  8 Seasons\n",
       "9                          Arrow  8 Seasons"
      ]
     },
     "execution_count": 244,
     "metadata": {},
     "output_type": "execute_result"
    }
   ],
   "source": [
    "TV=df1[df1[\"type\"]==\"TV Show\"]\n",
    "TV=TV.drop_duplicates([\"title\"])\n",
    "TV[[\"title\",\"duration\"]].sort_values(by=\"duration\",ascending=False).head(10).reset_index(drop=True)"
   ]
  },
  {
   "cell_type": "markdown",
   "id": "e63d8459",
   "metadata": {},
   "source": [
    "## <b> BUSINESS INSIGHTS </b>\n",
    " -We have extracted the top 10 popular TV Shows\n",
    "## <b> RECOMMENDATIONS  </b>\n",
    " -As these shows are huge hit ,we should make their next seasons as well due to their high popularity and viewership"
   ]
  },
  {
   "cell_type": "markdown",
   "id": "41f48cf8",
   "metadata": {},
   "source": [
    "## Does Netflix has more focus on TV Shows than movies in recent years\n"
   ]
  },
  {
   "cell_type": "code",
   "execution_count": 246,
   "id": "94205e3c",
   "metadata": {},
   "outputs": [],
   "source": [
    "df2 = df1\n",
    "df2['Year'] = pd.to_datetime(df2['date_added']).dt.year\n"
   ]
  },
  {
   "cell_type": "code",
   "execution_count": 247,
   "id": "d0adfac7",
   "metadata": {},
   "outputs": [],
   "source": [
    "df3= df3[(df3[\"Year\"] >= 2015) & (df2[\"Year\"] <= 2021)]\n",
    "recent_TVshow_count = df3[df3[\"type\"] == 'TV Show'].groupby(\"Year\")[\"title\"].count()\n",
    "recent_Movie_count = df3[df3[\"type\"] == 'Movie'].groupby(\"Year\")[\"title\"].count()\n"
   ]
  },
  {
   "cell_type": "code",
   "execution_count": 248,
   "id": "64fb8ef3",
   "metadata": {},
   "outputs": [
    {
     "data": {
      "text/plain": [
       "Year\n",
       "2015     172\n",
       "2016    1401\n",
       "2017    2917\n",
       "2018    2629\n",
       "2019    4901\n",
       "2020    5548\n",
       "2021    3103\n",
       "Name: title, dtype: int64"
      ]
     },
     "execution_count": 248,
     "metadata": {},
     "output_type": "execute_result"
    }
   ],
   "source": [
    "recent_TVshow_count"
   ]
  },
  {
   "cell_type": "code",
   "execution_count": 249,
   "id": "073ea485",
   "metadata": {},
   "outputs": [
    {
     "data": {
      "text/plain": [
       "Year\n",
       "2015     1062\n",
       "2016     4687\n",
       "2017    17838\n",
       "2018    27551\n",
       "2019    33284\n",
       "2020    31598\n",
       "2021    21827\n",
       "Name: title, dtype: int64"
      ]
     },
     "execution_count": 249,
     "metadata": {},
     "output_type": "execute_result"
    }
   ],
   "source": [
    "recent_Movie_count"
   ]
  },
  {
   "cell_type": "markdown",
   "id": "8709df1e",
   "metadata": {},
   "source": [
    "      ***** THANK YOU *****"
   ]
  },
  {
   "cell_type": "code",
   "execution_count": null,
   "id": "01cb00a1",
   "metadata": {},
   "outputs": [],
   "source": []
  }
 ],
 "metadata": {
  "kernelspec": {
   "display_name": "Python 3 (ipykernel)",
   "language": "python",
   "name": "python3"
  },
  "language_info": {
   "codemirror_mode": {
    "name": "ipython",
    "version": 3
   },
   "file_extension": ".py",
   "mimetype": "text/x-python",
   "name": "python",
   "nbconvert_exporter": "python",
   "pygments_lexer": "ipython3",
   "version": "3.10.9"
  }
 },
 "nbformat": 4,
 "nbformat_minor": 5
}
